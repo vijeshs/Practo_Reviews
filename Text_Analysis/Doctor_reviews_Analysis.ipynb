{
 "cells": [
  {
   "cell_type": "code",
   "execution_count": 1,
   "metadata": {
    "ExecuteTime": {
     "end_time": "2020-03-13T07:34:55.303194Z",
     "start_time": "2020-03-13T07:34:01.375708Z"
    }
   },
   "outputs": [],
   "source": [
    "import pandas as pd\n",
    "from sklearn.feature_extraction.text import CountVectorizer\n",
    "import numpy as np\n",
    "import matplotlib.pyplot as plt\n",
    "import seaborn as sns\n",
    "from termcolor import colored\n",
    "from sklearn.feature_extraction.text import TfidfTransformer\n",
    "from sklearn.feature_extraction.text import TfidfVectorizer\n",
    "from sklearn import metrics\n",
    "from sklearn.preprocessing import Normalizer\n",
    "from sklearn.cluster import KMeans\n",
    "from sklearn.decomposition import NMF\n",
    "from gensim import corpora, models, similarities, matutils\n",
    "import gensim\n",
    "import dexplot as dxp\n",
    "from collections import Counter\n",
    "from matplotlib import rcParams\n",
    "from gensim import corpora, models, similarities\n",
    "from itertools import chain\n",
    "from sklearn.cluster import MeanShift"
   ]
  },
  {
   "cell_type": "code",
   "execution_count": 2,
   "metadata": {
    "ExecuteTime": {
     "end_time": "2020-03-13T07:34:55.309159Z",
     "start_time": "2020-03-13T07:34:55.305167Z"
    }
   },
   "outputs": [],
   "source": [
    "pd.set_option('display.max_colwidth', -1)\n",
    "pd.set_option('display.max_columns', None) "
   ]
  },
  {
   "cell_type": "code",
   "execution_count": 3,
   "metadata": {
    "ExecuteTime": {
     "end_time": "2020-03-13T07:34:55.444419Z",
     "start_time": "2020-03-13T07:34:55.311154Z"
    }
   },
   "outputs": [
    {
     "name": "stdout",
     "output_type": "stream",
     "text": [
      "C:\\Users\\VIJESH\\desktop\n"
     ]
    }
   ],
   "source": [
    "cd desktop"
   ]
  },
  {
   "cell_type": "code",
   "execution_count": 4,
   "metadata": {
    "ExecuteTime": {
     "end_time": "2020-03-13T07:34:55.800089Z",
     "start_time": "2020-03-13T07:34:55.449438Z"
    }
   },
   "outputs": [],
   "source": [
    "data=pd.read_csv(\"processed_reviews_practo.csv\") #importing the processed reviews"
   ]
  },
  {
   "cell_type": "code",
   "execution_count": 5,
   "metadata": {
    "ExecuteTime": {
     "end_time": "2020-03-13T07:34:55.814883Z",
     "start_time": "2020-03-13T07:34:55.801904Z"
    },
    "scrolled": true
   },
   "outputs": [],
   "source": [
    "data=data.dropna(how='any') #dropping all missing reviews"
   ]
  },
  {
   "cell_type": "code",
   "execution_count": 6,
   "metadata": {
    "ExecuteTime": {
     "end_time": "2020-03-13T07:34:55.913799Z",
     "start_time": "2020-03-13T07:34:55.815867Z"
    },
    "scrolled": true
   },
   "outputs": [
    {
     "data": {
      "text/plain": [
       "14651"
      ]
     },
     "execution_count": 6,
     "metadata": {},
     "output_type": "execute_result"
    }
   ],
   "source": [
    "len(data)"
   ]
  },
  {
   "cell_type": "code",
   "execution_count": 7,
   "metadata": {
    "ExecuteTime": {
     "end_time": "2020-03-13T07:34:56.007206Z",
     "start_time": "2020-03-13T07:34:55.914788Z"
    }
   },
   "outputs": [
    {
     "name": "stdout",
     "output_type": "stream",
     "text": [
      "<class 'pandas.core.frame.DataFrame'>\n",
      "Int64Index: 14651 entries, 0 to 14664\n",
      "Data columns (total 7 columns):\n",
      "reviews                 14651 non-null object\n",
      "recommendation          14651 non-null object\n",
      "location                14651 non-null object\n",
      "text_clean              14651 non-null object\n",
      "sentiment               14651 non-null object\n",
      "reviews_stop_words      14651 non-null object\n",
      "reviews_stop_words_1    14651 non-null object\n",
      "dtypes: object(7)\n",
      "memory usage: 915.7+ KB\n"
     ]
    }
   ],
   "source": [
    "data.info()"
   ]
  },
  {
   "cell_type": "code",
   "execution_count": 8,
   "metadata": {
    "ExecuteTime": {
     "end_time": "2020-03-13T07:34:56.287692Z",
     "start_time": "2020-03-13T07:34:56.009155Z"
    }
   },
   "outputs": [],
   "source": [
    "data.columns=['reviews', 'recommendation', 'location', 'text_clean', 'sentiment(Recommendation)',\n",
    "       'reviews_stop_words', 'reviews_stop_words_1']"
   ]
  },
  {
   "cell_type": "markdown",
   "metadata": {},
   "source": [
    "## Distribution of recommendations"
   ]
  },
  {
   "cell_type": "code",
   "execution_count": 9,
   "metadata": {
    "ExecuteTime": {
     "end_time": "2020-03-13T07:34:57.665560Z",
     "start_time": "2020-03-13T07:34:56.290685Z"
    },
    "scrolled": false
   },
   "outputs": [
    {
     "data": {
      "text/plain": [
       "<matplotlib.axes._subplots.AxesSubplot at 0x1e96176a048>"
      ]
     },
     "execution_count": 9,
     "metadata": {},
     "output_type": "execute_result"
    },
    {
     "data": {
      "image/png": "[encoded data removed]",
      "text/plain": [
       "<Figure size 288x288 with 1 Axes>"
      ]
     },
     "metadata": {
      "needs_background": "light"
     },
     "output_type": "display_data"
    }
   ],
   "source": [
    "dxp.aggplot(agg=\"recommendation\",data=data,figsize=(4, 4)) "
   ]
  },
  {
   "cell_type": "markdown",
   "metadata": {},
   "source": [
    "## Distribution of reviews on location"
   ]
  },
  {
   "cell_type": "code",
   "execution_count": 10,
   "metadata": {
    "ExecuteTime": {
     "end_time": "2020-03-13T07:34:57.812927Z",
     "start_time": "2020-03-13T07:34:57.667317Z"
    },
    "scrolled": true
   },
   "outputs": [
    {
     "data": {
      "text/plain": [
       "<matplotlib.axes._subplots.AxesSubplot at 0x1e960596288>"
      ]
     },
     "execution_count": 10,
     "metadata": {},
     "output_type": "execute_result"
    },
    {
     "data": {
      "image/png": "[encoded data removed]",
      "text/plain": [
       "<Figure size 288x288 with 1 Axes>"
      ]
     },
     "metadata": {
      "needs_background": "light"
     },
     "output_type": "display_data"
    }
   ],
   "source": [
    "dxp.aggplot(agg=\"location\", data=data,figsize=(4, 4))"
   ]
  },
  {
   "cell_type": "markdown",
   "metadata": {},
   "source": [
    "## Function to extract sentiment from the reviews"
   ]
  },
  {
   "cell_type": "code",
   "execution_count": 11,
   "metadata": {
    "ExecuteTime": {
     "end_time": "2020-03-13T07:34:57.986956Z",
     "start_time": "2020-03-13T07:34:57.813924Z"
    }
   },
   "outputs": [],
   "source": [
    "from vaderSentiment.vaderSentiment import SentimentIntensityAnalyzer \n",
    "def sentiment_scores(sentence): \n",
    "  \n",
    "    sid_obj = SentimentIntensityAnalyzer() \n",
    "  \n",
    "    sentiment_dict = sid_obj.polarity_scores(str(sentence)) #finding polarity score\n",
    " \n",
    "    if sentiment_dict['compound'] >= 0.05 :     #score is greater than 0.05 then the tweet is positive\n",
    "        return \"Positive\"\n",
    "  \n",
    "    elif sentiment_dict['compound'] <= - 0.05 : #score  less than -0.05 is negative\n",
    "        return \"Negative\"\n",
    "  \n",
    "    else : \n",
    "        return \"Neutral\""
   ]
  },
  {
   "cell_type": "code",
   "execution_count": 12,
   "metadata": {
    "ExecuteTime": {
     "end_time": "2020-03-13T07:54:36.558665Z",
     "start_time": "2020-03-13T07:34:57.989948Z"
    }
   },
   "outputs": [],
   "source": [
    "data['sentiment_vader']=data.apply(lambda row:sentiment_scores(row['reviews']),axis=1) #calling function"
   ]
  },
  {
   "cell_type": "code",
   "execution_count": 115,
   "metadata": {
    "ExecuteTime": {
     "end_time": "2020-03-13T16:58:26.760301Z",
     "start_time": "2020-03-13T16:58:26.273880Z"
    }
   },
   "outputs": [
    {
     "data": {
      "text/plain": [
       "<matplotlib.axes._subplots.AxesSubplot at 0x1e96e677b48>"
      ]
     },
     "execution_count": 115,
     "metadata": {},
     "output_type": "execute_result"
    },
    {
     "data": {
      "image/png": "[encoded data removed]",
      "text/plain": [
       "<Figure size 288x288 with 1 Axes>"
      ]
     },
     "metadata": {
      "needs_background": "light"
     },
     "output_type": "display_data"
    }
   ],
   "source": [
    "dxp.aggplot(agg=\"sentiment_vader\", data=data,figsize=(4, 4))"
   ]
  },
  {
   "cell_type": "markdown",
   "metadata": {
    "ExecuteTime": {
     "end_time": "2020-02-06T03:25:31.396864Z",
     "start_time": "2020-02-06T03:25:31.380865Z"
    }
   },
   "source": [
    "## Recommendations vs reviews sentiment"
   ]
  },
  {
   "cell_type": "code",
   "execution_count": 13,
   "metadata": {
    "ExecuteTime": {
     "end_time": "2020-03-13T07:54:36.574616Z",
     "start_time": "2020-03-13T07:54:36.558665Z"
    },
    "scrolled": true
   },
   "outputs": [
    {
     "data": {
      "text/plain": [
       "<pandas.core.groupby.generic.SeriesGroupBy object at 0x000001E9605E28C8>"
      ]
     },
     "execution_count": 13,
     "metadata": {},
     "output_type": "execute_result"
    }
   ],
   "source": [
    "data.groupby('sentiment_vader')['sentiment(Recommendation)']"
   ]
  },
  {
   "cell_type": "code",
   "execution_count": 14,
   "metadata": {
    "ExecuteTime": {
     "end_time": "2020-03-13T07:54:39.760173Z",
     "start_time": "2020-03-13T07:54:36.574616Z"
    }
   },
   "outputs": [
    {
     "data": {
      "text/html": [
       "<div>\n",
       "<style scoped>\n",
       "    .dataframe tbody tr th:only-of-type {\n",
       "        vertical-align: middle;\n",
       "    }\n",
       "\n",
       "    .dataframe tbody tr th {\n",
       "        vertical-align: top;\n",
       "    }\n",
       "\n",
       "    .dataframe thead th {\n",
       "        text-align: right;\n",
       "    }\n",
       "</style>\n",
       "<table border=\"1\" class=\"dataframe\">\n",
       "  <thead>\n",
       "    <tr style=\"text-align: right;\">\n",
       "      <th>sentiment(Recommendation)</th>\n",
       "      <th>Negative</th>\n",
       "      <th>Positive</th>\n",
       "    </tr>\n",
       "    <tr>\n",
       "      <th>sentiment_vader</th>\n",
       "      <th></th>\n",
       "      <th></th>\n",
       "    </tr>\n",
       "  </thead>\n",
       "  <tbody>\n",
       "    <tr>\n",
       "      <th>Negative</th>\n",
       "      <td>5.160057</td>\n",
       "      <td>7.808341</td>\n",
       "    </tr>\n",
       "    <tr>\n",
       "      <th>Neutral</th>\n",
       "      <td>0.709849</td>\n",
       "      <td>4.108935</td>\n",
       "    </tr>\n",
       "    <tr>\n",
       "      <th>Positive</th>\n",
       "      <td>2.136373</td>\n",
       "      <td>80.076445</td>\n",
       "    </tr>\n",
       "  </tbody>\n",
       "</table>\n",
       "</div>"
      ],
      "text/plain": [
       "sentiment(Recommendation)  Negative   Positive\n",
       "sentiment_vader                               \n",
       "Negative                   5.160057  7.808341 \n",
       "Neutral                    0.709849  4.108935 \n",
       "Positive                   2.136373  80.076445"
      ]
     },
     "execution_count": 14,
     "metadata": {},
     "output_type": "execute_result"
    }
   ],
   "source": [
    "pd.crosstab(data['sentiment_vader'],data['sentiment(Recommendation)']).apply(lambda x:x*100/len(data),axis=1)"
   ]
  },
  {
   "cell_type": "code",
   "execution_count": 15,
   "metadata": {
    "ExecuteTime": {
     "end_time": "2020-03-13T07:54:39.776155Z",
     "start_time": "2020-03-13T07:54:39.760173Z"
    }
   },
   "outputs": [],
   "source": [
    "positive_reviews=data.loc[data['sentiment(Recommendation)']=='Positive','reviews_stop_words_1'].tolist()#list of positive reviews\n",
    "negative_reviews=data.loc[data['sentiment(Recommendation)']=='Negative','reviews_stop_words_1'].tolist()#list of negative reviews"
   ]
  },
  {
   "cell_type": "markdown",
   "metadata": {},
   "source": [
    "# Recommended Reviews"
   ]
  },
  {
   "cell_type": "markdown",
   "metadata": {},
   "source": [
    "## Function to get LDA topics"
   ]
  },
  {
   "cell_type": "code",
   "execution_count": 16,
   "metadata": {
    "ExecuteTime": {
     "end_time": "2020-03-13T07:54:39.931943Z",
     "start_time": "2020-03-13T07:54:39.780150Z"
    }
   },
   "outputs": [],
   "source": [
    "def topics(List):\n",
    "    count_vectorizer = CountVectorizer(stop_words='english')\n",
    "    count_vectorizer.fit(List)\n",
    "    counts = count_vectorizer.transform(List).transpose()\n",
    "    corpus = matutils.Sparse2Corpus(counts)\n",
    "    id2word = dict((v, k) for k, v in count_vectorizer.vocabulary_.items())\n",
    "    lda = models.LdaMulticore(corpus=corpus, num_topics=10, id2word=id2word, passes=1)\n",
    "    ldamodel = gensim.models.ldamodel.LdaModel(corpus=corpus,id2word=id2word,num_topics=5,passes=10,alpha='auto',per_word_topics=True)\n",
    "    return lda.print_topics()"
   ]
  },
  {
   "cell_type": "markdown",
   "metadata": {},
   "source": [
    "## Most common words"
   ]
  },
  {
   "cell_type": "code",
   "execution_count": 17,
   "metadata": {
    "ExecuteTime": {
     "end_time": "2020-03-13T07:54:41.940826Z",
     "start_time": "2020-03-13T07:54:39.931943Z"
    }
   },
   "outputs": [
    {
     "data": {
      "image/png": "[encoded data removed]",
      "text/plain": [
       "<Figure size 1080x667.491 with 1 Axes>"
      ]
     },
     "metadata": {
      "needs_background": "light"
     },
     "output_type": "display_data"
    }
   ],
   "source": [
    "# Helper function\n",
    "def plot_10_most_common_words(count_data, count_vectorizer):\n",
    "    import matplotlib.pyplot as plt\n",
    "    \n",
    "    sns.set_style('whitegrid')\n",
    "    %matplotlib inline\n",
    "    words = count_vectorizer.get_feature_names()\n",
    "    total_counts = np.zeros(len(words))\n",
    "    for t in count_data:\n",
    "        total_counts+=t.toarray()[0]\n",
    "    \n",
    "    count_dict = (zip(words, total_counts))\n",
    "    count_dict = sorted(count_dict, key=lambda x:x[1], reverse=True)[0:10]\n",
    "    words = [w[0] for w in count_dict]\n",
    "    counts = [w[1] for w in count_dict]\n",
    "    x_pos = np.arange(len(words)) \n",
    "    \n",
    "    plt.figure(2, figsize=(15, 15/1.6180))\n",
    "    plt.subplot(title='10 most common words in not recommended reviews')\n",
    "    sns.set_context(\"notebook\", font_scale=1.25, rc={\"lines.linewidth\": 2.5})\n",
    "    sns.barplot(x_pos, counts, palette='husl')\n",
    "    plt.xticks(x_pos, words, rotation=90) \n",
    "    plt.xlabel('words')\n",
    "    plt.ylabel('counts')\n",
    "    plt.show()\n",
    "# Initialise the count vectorizer with the English stop words\n",
    "count_vectorizer = CountVectorizer(stop_words='english')\n",
    "# Fit and transform the processed titles\n",
    "count_data = count_vectorizer.fit_transform(positive_reviews)\n",
    "# Visualise the 10 most common words\n",
    "plot_10_most_common_words(count_data, count_vectorizer)"
   ]
  },
  {
   "cell_type": "code",
   "execution_count": 18,
   "metadata": {
    "ExecuteTime": {
     "end_time": "2020-03-13T07:54:59.429564Z",
     "start_time": "2020-03-13T07:54:41.940826Z"
    }
   },
   "outputs": [
    {
     "name": "stdout",
     "output_type": "stream",
     "text": [
      "\u001b[32mTopics found via LDA:\u001b[0m\n",
      "\n",
      "Topic #0:\n",
      "visit clinic listen medicine treatment time issue diagnosis day donot fever test prescribe highly patiently thank suggest treat doc care great consultation family appointment ask consult medication fee professional report\n",
      "\n",
      "Topic #1:\n",
      "medicine test prescribe day unnecessary pain treatment donot listen suggest thank medication result visit friendly relief advise laxman therapy help year diagnose suffer advice carefully nap ask feel explain jonwal\n",
      "\n",
      "Topic #2:\n",
      "treatment family feel diabetes time visit year make sugar care control thank level treat best life god meet mother come great hospital consult way bless father really say know person\n",
      "\n",
      "Topic #3:\n",
      "treatment thank sir consult health fever happy suffer proper life visit come lot satisfy help condition really friend meet start hospital dengue disease month diagnose feel advise father advice year\n",
      "\n",
      "Topic #4:\n",
      "explain friendly time treatment listen understand issue nice satisfy medicine health visit really way patiently happy polite wait make great staff cause treat helpful suggest diagnosis best medication carefully explanation\n",
      "\n",
      "\n",
      "\u001b[32mTopics found via nmf_Z:\u001b[0m\n",
      "\n",
      "Topic #0:\n",
      "medicine prescribe test listen donot unnecessary suggest day ask patiently carefully understand pain require advise fever check report nice work say need medication really relief tell diet write hear blood\n",
      "\n",
      "Topic #1:\n",
      "treatment satisfy happy thank result best year excellent staff diagnosis diabetes great really start nice provide father disease hospital advise highly consult friendly approach effective laxman suggest family proper come\n",
      "\n",
      "Topic #2:\n",
      "time wait appointment understand spend donot long clinic listen meet consultation need really make hour care diagnosis family great come check proper medical know highly ample feel 30 question consult\n",
      "\n",
      "Topic #3:\n",
      "explain friendly issue listen health patiently understand way medication nice cause clearly make polite highly carefully diagnosis thing treat care patience satisfy great comfortable disease suggest really definitely nature feel\n",
      "\n",
      "Topic #4:\n",
      "visit thank day clinic feel treat hospital year make family care really issue pain month medication meet come fever health consult test help suggest suffer best way happy great lot\n",
      "\n",
      "\n",
      "\u001b[32mTopics found via lsi_Z:\u001b[0m\n",
      "\n",
      "Topic #0:\n",
      "treatment medicine time visit explain listen friendly issue thank prescribe test day donot understand clinic health suggest feel really medication make patiently satisfy happy care treat year family best ask\n",
      "\n",
      "Topic #1:\n",
      "medicine prescribe listen test time donot unnecessary patiently ask medication explain suggest issue visit day carefully understand check need wait appointment tell thing report cause say health fever symptom write\n",
      "\n",
      "Topic #2:\n",
      "medicine treatment prescribe day test pain thank suggest visit result laxman month fever nap unnecessary relief jonwal donot therapy suffer ask year blood high sugar advise control say start week\n",
      "\n",
      "Topic #3:\n",
      "time visit clinic day wait thank appointment hospital come year feel month meet pain suffer fever family consultation long start life say consult know really care practo father donot wife\n",
      "\n",
      "Topic #4:\n",
      "visit issue thank health friendly explain clinic feel treat way day medication make hospital care family year month mother friend sir help fever patiently suggest consult staff suffer best kind\n"
     ]
    }
   ],
   "source": [
    "import warnings\n",
    "warnings.simplefilter(\"ignore\", DeprecationWarning)\n",
    "# Load the LDA model from sk-learn\n",
    "from sklearn.decomposition import LatentDirichletAllocation as LDA\n",
    "from sklearn.decomposition import TruncatedSVD\n",
    "# Helper function\n",
    "def print_topics(model, count_vectorizer, n_top_words):\n",
    "    words = count_vectorizer.get_feature_names()\n",
    "    for topic_idx, topic in enumerate(model.components_):\n",
    "        print(\"\\nTopic #%d:\" % topic_idx)\n",
    "        print(\" \".join([words[i]\n",
    "                        for i in topic.argsort()[:-n_top_words - 1:-1]]))\n",
    "        \n",
    "# Tweak the two parameters below\n",
    "number_topics = 5\n",
    "number_words = 30\n",
    "# Create and fit the LDA model\n",
    "lda = LDA(n_components=number_topics, n_jobs=-1)\n",
    "lda.fit(count_data)\n",
    "# Print the topics found by the LDA model\n",
    "print(colored(\"Topics found via LDA:\",'green'))\n",
    "print_topics(lda, count_vectorizer, number_words)\n",
    "\n",
    "# Build a Non-Negative Matrix Factorization Model\n",
    "nmf_model = NMF(n_components=number_topics)\n",
    "nmf_model.fit(count_data)\n",
    "print('\\n')\n",
    "print (colored(\"Topics found via nmf_Z:\",'green'))\n",
    "print_topics(nmf_model, count_vectorizer, number_words)\n",
    "\n",
    "print('\\n')\n",
    "print (colored(\"Topics found via lsi_Z:\",'green'))\n",
    "# Build a Latent Semantic Indexing Model\n",
    "lsi_model = TruncatedSVD(n_components=number_topics)\n",
    "lsi_Z = lsi_model.fit(count_data)\n",
    "print_topics(lsi_Z, count_vectorizer, number_words)\n"
   ]
  },
  {
   "cell_type": "code",
   "execution_count": 19,
   "metadata": {
    "ExecuteTime": {
     "end_time": "2020-03-13T07:55:50.904505Z",
     "start_time": "2020-03-13T07:54:59.429564Z"
    },
    "scrolled": false
   },
   "outputs": [
    {
     "data": {
      "text/plain": [
       "[(0,\n",
       "  '0.025*\"friendly\" + 0.018*\"listen\" + 0.016*\"time\" + 0.016*\"explain\" + 0.014*\"prescribe\" + 0.013*\"donot\" + 0.013*\"medicine\" + 0.011*\"treatment\" + 0.011*\"test\" + 0.011*\"patiently\"'),\n",
       " (1,\n",
       "  '0.017*\"treatment\" + 0.012*\"time\" + 0.011*\"test\" + 0.010*\"listen\" + 0.010*\"medicine\" + 0.008*\"treat\" + 0.008*\"visit\" + 0.008*\"understand\" + 0.008*\"friendly\" + 0.008*\"excellent\"'),\n",
       " (2,\n",
       "  '0.027*\"medicine\" + 0.019*\"listen\" + 0.017*\"treatment\" + 0.014*\"help\" + 0.013*\"prescribe\" + 0.013*\"test\" + 0.011*\"donot\" + 0.011*\"visit\" + 0.011*\"lot\" + 0.010*\"friendly\"'),\n",
       " (3,\n",
       "  '0.041*\"treatment\" + 0.017*\"time\" + 0.017*\"visit\" + 0.014*\"friendly\" + 0.011*\"thank\" + 0.010*\"best\" + 0.010*\"listen\" + 0.010*\"explain\" + 0.010*\"family\" + 0.008*\"suggest\"'),\n",
       " (4,\n",
       "  '0.020*\"treatment\" + 0.020*\"explain\" + 0.017*\"medicine\" + 0.017*\"issue\" + 0.017*\"day\" + 0.013*\"listen\" + 0.013*\"visit\" + 0.012*\"time\" + 0.009*\"thank\" + 0.008*\"really\"'),\n",
       " (5,\n",
       "  '0.019*\"treatment\" + 0.018*\"medicine\" + 0.018*\"time\" + 0.017*\"friendly\" + 0.016*\"explain\" + 0.015*\"clinic\" + 0.014*\"understand\" + 0.013*\"listen\" + 0.009*\"excellent\" + 0.008*\"nice\"'),\n",
       " (6,\n",
       "  '0.025*\"time\" + 0.021*\"explain\" + 0.015*\"medicine\" + 0.014*\"treatment\" + 0.014*\"friendly\" + 0.012*\"visit\" + 0.012*\"understand\" + 0.012*\"issue\" + 0.009*\"feel\" + 0.009*\"health\"'),\n",
       " (7,\n",
       "  '0.022*\"explain\" + 0.019*\"friendly\" + 0.018*\"treatment\" + 0.016*\"listen\" + 0.011*\"treat\" + 0.010*\"suggest\" + 0.010*\"consult\" + 0.010*\"really\" + 0.009*\"medicine\" + 0.009*\"nice\"'),\n",
       " (8,\n",
       "  '0.025*\"visit\" + 0.024*\"medicine\" + 0.021*\"explain\" + 0.017*\"treatment\" + 0.016*\"time\" + 0.013*\"prescribe\" + 0.013*\"friendly\" + 0.010*\"issue\" + 0.009*\"satisfy\" + 0.009*\"thank\"'),\n",
       " (9,\n",
       "  '0.022*\"listen\" + 0.016*\"thank\" + 0.015*\"treatment\" + 0.015*\"medicine\" + 0.012*\"time\" + 0.012*\"health\" + 0.009*\"come\" + 0.008*\"explain\" + 0.008*\"make\" + 0.007*\"meet\"')]"
      ]
     },
     "execution_count": 19,
     "metadata": {},
     "output_type": "execute_result"
    }
   ],
   "source": [
    "topics(positive_reviews) #lda for recommended reviews"
   ]
  },
  {
   "cell_type": "markdown",
   "metadata": {
    "ExecuteTime": {
     "end_time": "2020-02-24T10:02:36.265439Z",
     "start_time": "2020-02-24T10:02:36.253453Z"
    }
   },
   "source": [
    "## K-Means clustering for recommended reviews"
   ]
  },
  {
   "cell_type": "code",
   "execution_count": 20,
   "metadata": {
    "ExecuteTime": {
     "end_time": "2020-03-13T07:55:56.479263Z",
     "start_time": "2020-03-13T07:55:50.904505Z"
    },
    "scrolled": false
   },
   "outputs": [
    {
     "name": "stdout",
     "output_type": "stream",
     "text": [
      "Cluster 0\n",
      "\n",
      "explain\n",
      "friendly\n",
      "issue\n",
      "time\n",
      "friendly explain\n",
      "\n",
      "\n",
      "Cluster 1\n",
      "\n",
      "time\n",
      "friendly\n",
      "visit\n",
      "thank\n",
      "understand\n",
      "\n",
      "\n",
      "Cluster 2\n",
      "\n",
      "listen\n",
      "patiently\n",
      "carefully\n",
      "listen patiently\n",
      "listen carefully\n",
      "\n",
      "\n",
      "Cluster 3\n",
      "\n",
      "treatment\n",
      "satisfy\n",
      "satisfy treatment\n",
      "happy\n",
      "friendly\n",
      "\n",
      "\n",
      "Cluster 4\n",
      "\n",
      "medicine\n",
      "prescribe\n",
      "test\n",
      "prescribe medicine\n",
      "donot\n",
      "\n",
      "\n"
     ]
    }
   ],
   "source": [
    "tf_idf = TfidfVectorizer(stop_words='english', ngram_range=(1, 4), min_df=25, max_df=0.98)\n",
    "tf_idf_vecs = tf_idf.fit_transform(positive_reviews)\n",
    "\n",
    "lsa = TruncatedSVD(100, algorithm='arpack')\n",
    "lsa_vecs = lsa.fit_transform(tf_idf_vecs)\n",
    "lsa_vecs = Normalizer(copy=False).fit_transform(lsa_vecs)\n",
    "feature_names = tf_idf.get_feature_names()\n",
    "lsa_df = pd.DataFrame(lsa.components_.round(5), columns=feature_names)\n",
    "\n",
    "km = KMeans(n_clusters=5, init='k-means++')\n",
    "km.fit(lsa_vecs)\n",
    "clusters = km.predict(lsa_vecs)\n",
    "\n",
    "km.cluster_centers_.shape\n",
    "\n",
    "original_space_centroids = lsa.inverse_transform(km.cluster_centers_)\n",
    "original_space_centroids.shape\n",
    "\n",
    "order_centroids = original_space_centroids.argsort()[:, ::-1]\n",
    "order_centroids.shape\n",
    "\n",
    "for cluster in range(5):\n",
    "    features = order_centroids[cluster,0:5]\n",
    "    print('Cluster {}\\n'.format(cluster))\n",
    "    for feature in features:\n",
    "        print(feature_names[feature])\n",
    "    print('\\n')"
   ]
  },
  {
   "cell_type": "markdown",
   "metadata": {},
   "source": [
    "## Not recommended Reviews"
   ]
  },
  {
   "cell_type": "code",
   "execution_count": 21,
   "metadata": {
    "ExecuteTime": {
     "end_time": "2020-03-13T07:55:56.874735Z",
     "start_time": "2020-03-13T07:55:56.479263Z"
    }
   },
   "outputs": [
    {
     "data": {
      "image/png": "[encoded data removed]",
      "text/plain": [
       "<Figure size 1080x667.491 with 1 Axes>"
      ]
     },
     "metadata": {
      "needs_background": "light"
     },
     "output_type": "display_data"
    }
   ],
   "source": [
    "count_vectorizer = CountVectorizer(stop_words='english')\n",
    "# Fit and transform the processed titles\n",
    "count_data = count_vectorizer.fit_transform(negative_reviews)\n",
    "# Visualise the 10 most common words\n",
    "plot_10_most_common_words(count_data, count_vectorizer)"
   ]
  },
  {
   "cell_type": "code",
   "execution_count": 22,
   "metadata": {
    "ExecuteTime": {
     "end_time": "2020-03-13T07:55:59.219972Z",
     "start_time": "2020-03-13T07:55:56.874735Z"
    }
   },
   "outputs": [
    {
     "name": "stdout",
     "output_type": "stream",
     "text": [
      "\u001b[32mTopics found via LDA:\u001b[0m\n",
      "\n",
      "Topic #0:\n",
      "donot test day say medicine ask visit report tell prescribe charge explain check fever consultation bad cough time fee consult suggest write blood hospital pain typhoid pay treatment symptom need\n",
      "\n",
      "Topic #1:\n",
      "fever visit consultation ask time test charge rs fee clinic hospital money medicine say practo donot listen case check injection 500 waste mention refer treat dengue come viral day 100\n",
      "\n",
      "Topic #2:\n",
      "time wait appointment ask visit donot hour come clinic say hospital book tell reach min 30 practo staff bad consultation medicine available minute day leave 10 make receptionist treatment rude\n",
      "\n",
      "Topic #3:\n",
      "donot hospital visit time tell day ask treatment blood medicine test issue fever charge health explain come money admit high report pain suggest check bad say listen consult consultation prescribe\n",
      "\n",
      "Topic #4:\n",
      "test medicine prescribe report donot listen ask tell clinic say charge suggest lab expensive treatment write time want visit blood cost medication prescription pay properly money hospital day hurry result\n",
      "\n",
      "\n",
      "\u001b[32mTopics found via nmf_Z:\u001b[0m\n",
      "\n",
      "Topic #0:\n",
      "time wait appointment donot hour come clinic tell book reach 30 minute practo 10 say receptionist meet money available visit min make leave turn long pm treatment till bad people\n",
      "\n",
      "Topic #1:\n",
      "day say donot check grandmother ajit ask nurse tell come hospital admit shetty sonography icu diet water kidney normal condition sleep 2019 inform washroom urinate feb stool start feel immediately\n",
      "\n",
      "Topic #2:\n",
      "test report tell fever blood suggest ask prescribe typhoid lab day pain dengue say check donot pay result hospital write cost urine consult explain make culture mother antibiotic money normal\n",
      "\n",
      "Topic #3:\n",
      "hospital ask staff right prick say day consultation floor come hand pay change appointment inform room place dad husband try ward grind boy report guy time family leave blood colonoscopy\n",
      "\n",
      "Topic #4:\n",
      "medicine visit donot charge clinic day consultation prescribe ask fever fee treatment pay consult tell say high explain write bad prescription time rs wife issue tablet listen follow mention rude\n",
      "\n",
      "\n",
      "\u001b[32mTopics found via lsi_Z:\u001b[0m\n",
      "\n",
      "Topic #0:\n",
      "donot ask day say time hospital visit tell test come medicine check appointment report wait clinic staff charge nurse fever pay blood admit consultation hour treatment grandmother ajit make prescribe\n",
      "\n",
      "Topic #1:\n",
      "day say ajit grandmother nurse check shetty admit donot sonography icu kidney water diet sleep feb urinate washroom 2019 stool normal condition discharge hemant sleepiness suvidha ignore present bloat mouth\n",
      "\n",
      "Topic #2:\n",
      "time appointment wait staff come hour hospital prick right receptionist floor hand nurse book leave turn ward grind boy try place husband ask reach room 10 30 guy colonoscopy long\n",
      "\n",
      "Topic #3:\n",
      "hospital test ask report staff right blood prick floor pay suggest dad inform room husband ward family boy grind change mom guy hand colonoscopy 11am barve cot anaesthesia mrd yawn\n",
      "\n",
      "Topic #4:\n",
      "visit day hospital charge consultation fee donor change admit pay rs fever family platelet staff follow dad high medicine request night fortis arrange second count week bad talk inform option\n"
     ]
    }
   ],
   "source": [
    "# Tweak the two parameters below\n",
    "number_topics = 5\n",
    "number_words = 30\n",
    "# Create and fit the LDA model\n",
    "lda = LDA(n_components=number_topics, n_jobs=-1)\n",
    "lda.fit(count_data)\n",
    "# Print the topics found by the LDA model\n",
    "print(colored(\"Topics found via LDA:\",'green'))\n",
    "print_topics(lda, count_vectorizer, number_words)\n",
    "\n",
    "# Build a Non-Negative Matrix Factorization Model\n",
    "nmf_model = NMF(n_components=number_topics)\n",
    "nmf_model.fit(count_data)\n",
    "print('\\n')\n",
    "print (colored(\"Topics found via nmf_Z:\",'green'))\n",
    "print_topics(nmf_model, count_vectorizer, number_words)\n",
    "\n",
    "print('\\n')\n",
    "print (colored(\"Topics found via lsi_Z:\",'green'))\n",
    "# Build a Latent Semantic Indexing Model\n",
    "lsi_model = TruncatedSVD(n_components=number_topics)\n",
    "lsi_Z = lsi_model.fit(count_data)\n",
    "print_topics(lsi_Z, count_vectorizer, number_words)\n"
   ]
  },
  {
   "cell_type": "markdown",
   "metadata": {},
   "source": [
    "## K-Means Clustering for not recommended reviews"
   ]
  },
  {
   "cell_type": "code",
   "execution_count": 23,
   "metadata": {
    "ExecuteTime": {
     "end_time": "2020-03-13T07:55:59.819172Z",
     "start_time": "2020-03-13T07:55:59.223967Z"
    }
   },
   "outputs": [
    {
     "name": "stdout",
     "output_type": "stream",
     "text": [
      "Cluster 0\n",
      "\n",
      "test\n",
      "report\n",
      "blood\n",
      "fever\n",
      "blood test\n",
      "ask\n",
      "suggest\n",
      "visit\n",
      "tell\n",
      "day\n",
      "\n",
      "\n",
      "Cluster 1\n",
      "\n",
      "wait\n",
      "appointment\n",
      "time\n",
      "hour\n",
      "come\n",
      "book\n",
      "clinic\n",
      "available\n",
      "reach\n",
      "donot\n",
      "\n",
      "\n",
      "Cluster 2\n",
      "\n",
      "charge\n",
      "fee\n",
      "consultation\n",
      "visit\n",
      "consultation fee\n",
      "high\n",
      "rs\n",
      "mention\n",
      "donot\n",
      "practo\n",
      "\n",
      "\n",
      "Cluster 3\n",
      "\n",
      "medicine\n",
      "prescribe\n",
      "donot\n",
      "prescribe medicine\n",
      "write\n",
      "explain\n",
      "clinic\n",
      "day\n",
      "tell\n",
      "bad\n",
      "\n",
      "\n",
      "Cluster 4\n",
      "\n",
      "donot\n",
      "visit\n",
      "say\n",
      "time\n",
      "listen\n",
      "ask\n",
      "bad\n",
      "explain\n",
      "hospital\n",
      "treatment\n",
      "\n",
      "\n"
     ]
    }
   ],
   "source": [
    "tf_idf = TfidfVectorizer(stop_words='english', ngram_range=(1, 4), min_df=25, max_df=0.98)\n",
    "tf_idf_vecs = tf_idf.fit_transform(negative_reviews)\n",
    "\n",
    "lsa = TruncatedSVD(100, algorithm='arpack')\n",
    "lsa_vecs = lsa.fit_transform(tf_idf_vecs)\n",
    "lsa_vecs = Normalizer(copy=False).fit_transform(lsa_vecs)\n",
    "feature_names = tf_idf.get_feature_names()\n",
    "lsa_df = pd.DataFrame(lsa.components_.round(5), columns=feature_names)\n",
    "\n",
    "km = KMeans(n_clusters=5, init='k-means++')\n",
    "km.fit(lsa_vecs)\n",
    "clusters = km.predict(lsa_vecs)\n",
    "\n",
    "km.cluster_centers_.shape\n",
    "\n",
    "original_space_centroids = lsa.inverse_transform(km.cluster_centers_)\n",
    "original_space_centroids.shape\n",
    "\n",
    "order_centroids = original_space_centroids.argsort()[:, ::-1]\n",
    "order_centroids.shape\n",
    "\n",
    "for cluster in range(5):\n",
    "    features = order_centroids[cluster,0:10]\n",
    "    print('Cluster {}\\n'.format(cluster))\n",
    "    for feature in features:\n",
    "        print(feature_names[feature])\n",
    "    print('\\n')"
   ]
  },
  {
   "cell_type": "code",
   "execution_count": 24,
   "metadata": {
    "ExecuteTime": {
     "end_time": "2020-03-13T07:55:59.835152Z",
     "start_time": "2020-03-13T07:55:59.823168Z"
    }
   },
   "outputs": [],
   "source": [
    "#recommended negative reviews\n",
    "List_=data.loc[(data['sentiment(Recommendation)']=='Positive')&(data['sentiment_vader']=='Negative'),'reviews_stop_words_1'].tolist()"
   ]
  },
  {
   "cell_type": "code",
   "execution_count": 25,
   "metadata": {
    "ExecuteTime": {
     "end_time": "2020-03-13T07:55:59.907056Z",
     "start_time": "2020-03-13T07:55:59.835152Z"
    }
   },
   "outputs": [],
   "source": [
    "#not recommended positive reviews\n",
    "List=data.loc[(data['sentiment(Recommendation)']=='Negative')&(data['sentiment_vader']=='Positive'),'reviews_stop_words_1'].tolist() "
   ]
  },
  {
   "cell_type": "code",
   "execution_count": 26,
   "metadata": {
    "ExecuteTime": {
     "end_time": "2020-03-13T07:55:59.939013Z",
     "start_time": "2020-03-13T07:55:59.907056Z"
    }
   },
   "outputs": [
    {
     "data": {
      "text/plain": [
       "313"
      ]
     },
     "execution_count": 26,
     "metadata": {},
     "output_type": "execute_result"
    }
   ],
   "source": [
    "len(List)"
   ]
  },
  {
   "cell_type": "markdown",
   "metadata": {
    "ExecuteTime": {
     "end_time": "2020-02-13T03:35:16.138325Z",
     "start_time": "2020-02-13T03:35:16.126341Z"
    }
   },
   "source": [
    "## Not recommended Positive reviews"
   ]
  },
  {
   "cell_type": "code",
   "execution_count": 27,
   "metadata": {
    "ExecuteTime": {
     "end_time": "2020-03-13T07:56:00.202384Z",
     "start_time": "2020-03-13T07:55:59.939013Z"
    },
    "scrolled": false
   },
   "outputs": [
    {
     "name": "stdout",
     "output_type": "stream",
     "text": [
      "Cluster 0\n",
      "\n",
      "time\n",
      "appointment\n",
      "wait\n",
      "donot\n",
      "clinic\n",
      "come\n",
      "hour\n",
      "reach\n",
      "hospital\n",
      "say\n",
      "\n",
      "\n",
      "Cluster 1\n",
      "\n",
      "test\n",
      "medicine\n",
      "visit\n",
      "donot\n",
      "day\n",
      "ask\n",
      "tell\n",
      "prescribe\n",
      "fever\n",
      "treatment\n",
      "\n",
      "\n",
      "Cluster 2\n",
      "\n",
      "donot\n",
      "time\n",
      "test\n",
      "visit\n",
      "medicine\n",
      "ask\n",
      "day\n",
      "clinic\n",
      "tell\n",
      "say\n",
      "\n",
      "\n"
     ]
    }
   ],
   "source": [
    "tf_idf = TfidfVectorizer(stop_words='english', ngram_range=(1, 4), min_df=25, max_df=0.98)\n",
    "tf_idf_vecs = tf_idf.fit_transform(List)\n",
    "\n",
    "lsa = TruncatedSVD()\n",
    "lsa_vecs = lsa.fit_transform(tf_idf_vecs)\n",
    "lsa_vecs = Normalizer(copy=False).fit_transform(lsa_vecs)\n",
    "feature_names = tf_idf.get_feature_names()\n",
    "lsa_df = pd.DataFrame(lsa.components_.round(5), columns=feature_names)\n",
    "\n",
    "km = KMeans(n_clusters=3, init='k-means++')\n",
    "km.fit(lsa_vecs)\n",
    "clusters = km.predict(lsa_vecs)\n",
    "\n",
    "km.cluster_centers_.shape\n",
    "\n",
    "original_space_centroids = lsa.inverse_transform(km.cluster_centers_)\n",
    "original_space_centroids.shape\n",
    "\n",
    "order_centroids = original_space_centroids.argsort()[:, ::-1]\n",
    "order_centroids.shape\n",
    "\n",
    "\n",
    "\n",
    "\n",
    "\n",
    "for cluster in range(3):\n",
    "    features = order_centroids[cluster,0:10]\n",
    "    print('Cluster {}\\n'.format(cluster))\n",
    "    for feature in features:\n",
    "        print(feature_names[feature])\n",
    "    print('\\n')"
   ]
  },
  {
   "cell_type": "code",
   "execution_count": 28,
   "metadata": {
    "ExecuteTime": {
     "end_time": "2020-03-13T07:56:00.218396Z",
     "start_time": "2020-03-13T07:56:00.202384Z"
    },
    "scrolled": true
   },
   "outputs": [
    {
     "data": {
      "text/html": [
       "<div>\n",
       "<style scoped>\n",
       "    .dataframe tbody tr th:only-of-type {\n",
       "        vertical-align: middle;\n",
       "    }\n",
       "\n",
       "    .dataframe tbody tr th {\n",
       "        vertical-align: top;\n",
       "    }\n",
       "\n",
       "    .dataframe thead th {\n",
       "        text-align: right;\n",
       "    }\n",
       "</style>\n",
       "<table border=\"1\" class=\"dataframe\">\n",
       "  <thead>\n",
       "    <tr style=\"text-align: right;\">\n",
       "      <th></th>\n",
       "      <th>sqdist</th>\n",
       "      <th>label</th>\n",
       "      <th>reviews</th>\n",
       "    </tr>\n",
       "  </thead>\n",
       "  <tbody>\n",
       "    <tr>\n",
       "      <th>0</th>\n",
       "      <td>1.42</td>\n",
       "      <td>0</td>\n",
       "      <td>book practo wait charge extra top seriously donot understand need book practo never app anyone go directly save money</td>\n",
       "    </tr>\n",
       "    <tr>\n",
       "      <th>1</th>\n",
       "      <td>2.18</td>\n",
       "      <td>1</td>\n",
       "      <td>many medicine prescribe friendly</td>\n",
       "    </tr>\n",
       "    <tr>\n",
       "      <th>2</th>\n",
       "      <td>2.34</td>\n",
       "      <td>0</td>\n",
       "      <td>general hygiene upkeep clinic improve make wait 30 minute confirm time phone fine bite awful staff support clinic avoid</td>\n",
       "    </tr>\n",
       "    <tr>\n",
       "      <th>3</th>\n",
       "      <td>2.47</td>\n",
       "      <td>0</td>\n",
       "      <td>unprofessional go serious matter not available clinic close practo confirm availability assure appointment</td>\n",
       "    </tr>\n",
       "    <tr>\n",
       "      <th>4</th>\n",
       "      <td>1.83</td>\n",
       "      <td>0</td>\n",
       "      <td>make appointment 115 pm however n't available clinic n't communicate reach tell woman property n't available</td>\n",
       "    </tr>\n",
       "  </tbody>\n",
       "</table>\n",
       "</div>"
      ],
      "text/plain": [
       "   sqdist  label  \\\n",
       "0  1.42    0       \n",
       "1  2.18    1       \n",
       "2  2.34    0       \n",
       "3  2.47    0       \n",
       "4  1.83    0       \n",
       "\n",
       "                                                                                                                   reviews  \n",
       "0  book practo wait charge extra top seriously donot understand need book practo never app anyone go directly save money    \n",
       "1  many medicine prescribe friendly                                                                                         \n",
       "2  general hygiene upkeep clinic improve make wait 30 minute confirm time phone fine bite awful staff support clinic avoid  \n",
       "3  unprofessional go serious matter not available clinic close practo confirm availability assure appointment               \n",
       "4  make appointment 115 pm however n't available clinic n't communicate reach tell woman property n't available             "
      ]
     },
     "execution_count": 28,
     "metadata": {},
     "output_type": "execute_result"
    }
   ],
   "source": [
    "X_dist = km.transform(lsa_vecs)**2\n",
    "\n",
    "# do something useful...\n",
    "import pandas as pd\n",
    "df = pd.DataFrame(X_dist.sum(axis=1).round(2), columns=['sqdist'])\n",
    "df['label'] = km.labels_\n",
    "\n",
    "\n",
    "df['reviews']=List\n",
    "df.head()"
   ]
  },
  {
   "cell_type": "markdown",
   "metadata": {
    "ExecuteTime": {
     "end_time": "2020-02-24T10:08:27.397561Z",
     "start_time": "2020-02-24T10:08:27.389569Z"
    }
   },
   "source": [
    "## Function to create Bigrams"
   ]
  },
  {
   "cell_type": "code",
   "execution_count": 29,
   "metadata": {
    "ExecuteTime": {
     "end_time": "2020-03-13T07:56:01.109196Z",
     "start_time": "2020-03-13T07:56:00.218396Z"
    }
   },
   "outputs": [
    {
     "data": {
      "image/png": "[encoded data removed]",
      "text/plain": [
       "<Figure size 720x720 with 2 Axes>"
      ]
     },
     "metadata": {
      "needs_background": "light"
     },
     "output_type": "display_data"
    }
   ],
   "source": [
    "def commonwords(review,top):\n",
    "    reviews=\" \".join(review)\n",
    "    tokenised_reviews=reviews.split(\" \")\n",
    "    \n",
    "    \n",
    "    freq_counter=Counter(tokenised_reviews) #counts the occurance\n",
    "    return freq_counter.most_common(top)\n",
    "\n",
    "\n",
    "recommended_negative_sentiment=commonwords(List_,30) #top 30 positive reviews\n",
    "Not_recommended_positive_sentiment=commonwords(List,30) #top 30 negative reviews\n",
    "\n",
    "def plotCommonWords(reviews,top,title,color=\"blue\",axis=None):\n",
    "    top_words=commonwords(reviews,top=top)\n",
    "    data=pd.DataFrame()\n",
    "    data['words']=[val[0] for val in top_words]\n",
    "    data['freq']=[val[1] for val in top_words]\n",
    "    if axis!=None:\n",
    "        sns.barplot(y='words',x='freq',data=data,color=color,ax=axis).set_title(title+\" top \"+str(top))\n",
    "    else:\n",
    "        sns.barplot(y='words',x='freq',data=data,color=color).set_title(title+\" top \"+str(top))\n",
    "\n",
    "def generateNGram(text,n=3):  #bigram\n",
    "    tokens=text.split(\" \")\n",
    "    ngrams = zip(*[tokens[i:] for i in range(n)])\n",
    "    return [\"_\".join(ngram) for ngram in ngrams] #joins two consecutive words\n",
    "\n",
    "positive_tweets_bigrams=[\" \".join(generateNGram(review)) for review in List_] \n",
    "negative_tweets_bigrams=[\" \".join(generateNGram(review)) for review in List] \n",
    "\n",
    "\n",
    "rcParams['figure.figsize'] = 10,10\n",
    "fig,ax=plt.subplots(1,2)\n",
    "fig.subplots_adjust(wspace=1) #Adjusts the space between the two plots\n",
    "plotCommonWords(positive_tweets_bigrams,20,\"Recommended negative sentiment\",axis=ax[0])\n",
    "\n",
    "plotCommonWords(negative_tweets_bigrams,20,\"Not recommended positive sentiment\",color=\"red\",axis=ax[1])"
   ]
  },
  {
   "cell_type": "code",
   "execution_count": 30,
   "metadata": {
    "ExecuteTime": {
     "end_time": "2020-03-13T07:56:01.117164Z",
     "start_time": "2020-03-13T07:56:01.109196Z"
    }
   },
   "outputs": [],
   "source": [
    "documents=data['reviews_stop_words_1'] #All reviews"
   ]
  },
  {
   "cell_type": "markdown",
   "metadata": {
    "ExecuteTime": {
     "end_time": "2020-02-24T10:09:30.644643Z",
     "start_time": "2020-02-24T10:09:30.636648Z"
    }
   },
   "source": [
    "# Analysis using all the reviews"
   ]
  },
  {
   "cell_type": "markdown",
   "metadata": {},
   "source": [
    "## LDA topic Modelling"
   ]
  },
  {
   "cell_type": "code",
   "execution_count": 31,
   "metadata": {
    "ExecuteTime": {
     "end_time": "2020-03-13T07:57:53.576793Z",
     "start_time": "2020-03-13T07:56:01.117164Z"
    },
    "scrolled": true
   },
   "outputs": [
    {
     "name": "stdout",
     "output_type": "stream",
     "text": [
      "(0, '0.013*\"n\" + 0.012*\"visit\" + 0.012*\"not\" + 0.010*\"charge\" + 0.010*\"day\" + 0.010*\"hospital\" + 0.010*\"treatment\" + 0.010*\"get\" + 0.010*\"time\" + 0.008*\"give\"')\n",
      "(1, '0.019*\"get\" + 0.018*\"go\" + 0.016*\"day\" + 0.012*\"test\" + 0.012*\"take\" + 0.011*\"medicine\" + 0.011*\"not\" + 0.011*\"do\" + 0.011*\"visit\" + 0.010*\"pain\"')\n",
      "(2, '0.037*\"give\" + 0.024*\"time\" + 0.022*\"treatment\" + 0.021*\"listen\" + 0.019*\"explain\" + 0.014*\"issue\" + 0.014*\"medicine\" + 0.012*\"understand\" + 0.012*\"detail\" + 0.011*\"patiently\"')\n",
      "(3, '0.025*\"medicine\" + 0.020*\"time\" + 0.015*\"visit\" + 0.015*\"also\" + 0.013*\"not\" + 0.013*\"donot\" + 0.013*\"explain\" + 0.012*\"give\" + 0.012*\"well\" + 0.012*\"prescribe\"')\n",
      "(4, '0.039*\"treatment\" + 0.020*\"friendly\" + 0.020*\"well\" + 0.016*\"explain\" + 0.014*\"thank\" + 0.012*\"always\" + 0.012*\"satisfy\" + 0.011*\"family\" + 0.010*\"care\" + 0.010*\"treat\"')\n"
     ]
    }
   ],
   "source": [
    "stoplist = set('for a of the and to in'.split())\n",
    "texts = [[word for word in document.lower().split() if word not in stoplist]\n",
    "         for document in documents]\n",
    "\n",
    "# remove words that appear only once\n",
    "all_tokens = sum(texts, [])\n",
    "tokens_once = set(word for word in set(all_tokens) if all_tokens.count(word) == 1)\n",
    "texts = [[word for word in text if word not in tokens_once] for text in texts]\n",
    "\n",
    "# Create Dictionary.\n",
    "id2word = corpora.Dictionary(texts)\n",
    "# Creates the Bag of Word corpus.\n",
    "mm = [id2word.doc2bow(text) for text in texts]\n",
    "\n",
    "# Trains the LDA models.\n",
    "lda = models.ldamodel.LdaModel(corpus=mm, id2word=id2word, num_topics=5)\n",
    "\n",
    "# Prints the topics.\n",
    "for top in lda.print_topics():\n",
    "    print(top)\n",
    "print\n",
    "\n",
    "# Assigns the topics to the documents in corpus\n",
    "lda_corpus = lda[mm]"
   ]
  },
  {
   "cell_type": "code",
   "execution_count": 32,
   "metadata": {
    "ExecuteTime": {
     "end_time": "2020-03-13T07:58:01.960935Z",
     "start_time": "2020-03-13T07:57:53.576793Z"
    }
   },
   "outputs": [],
   "source": [
    "all_topics_csr = gensim.matutils.corpus2csc(lda_corpus) \n",
    "topic_score = all_topics_csr.T.toarray().tolist() #probabilty scores for each cluster"
   ]
  },
  {
   "cell_type": "code",
   "execution_count": 33,
   "metadata": {
    "ExecuteTime": {
     "end_time": "2020-03-13T07:58:01.972692Z",
     "start_time": "2020-03-13T07:58:01.960935Z"
    }
   },
   "outputs": [],
   "source": [
    "cluster_1=[]\n",
    "cluster_2=[]\n",
    "cluster_3=[]\n",
    "cluster_4=[]\n",
    "cluster_5=[]\n",
    "\n",
    "#splitting the respective cluster scores\n",
    "\n",
    "for i in topic_score:\n",
    "    cluster_1.append(i[0])\n",
    "    cluster_2.append(i[1])\n",
    "    cluster_3.append(i[2])\n",
    "    cluster_4.append(i[3])\n",
    "    cluster_5.append(i[4])\n",
    " "
   ]
  },
  {
   "cell_type": "code",
   "execution_count": 34,
   "metadata": {
    "ExecuteTime": {
     "end_time": "2020-03-13T07:58:02.125979Z",
     "start_time": "2020-03-13T07:58:01.972692Z"
    }
   },
   "outputs": [],
   "source": [
    "Topics_data = pd.DataFrame()\n",
    "Topics_data['Text']=documents\n",
    "Topics_data['cluster_1']=cluster_1\n",
    "Topics_data['cluster_2']=cluster_2\n",
    "Topics_data['cluster_3']=cluster_3\n",
    "Topics_data['cluster_4']=cluster_4\n",
    "Topics_data['cluster_5']=cluster_5"
   ]
  },
  {
   "cell_type": "code",
   "execution_count": 35,
   "metadata": {
    "ExecuteTime": {
     "end_time": "2020-03-13T07:58:02.346603Z",
     "start_time": "2020-03-13T07:58:02.125979Z"
    }
   },
   "outputs": [
    {
     "data": {
      "text/html": [
       "<div>\n",
       "<style scoped>\n",
       "    .dataframe tbody tr th:only-of-type {\n",
       "        vertical-align: middle;\n",
       "    }\n",
       "\n",
       "    .dataframe tbody tr th {\n",
       "        vertical-align: top;\n",
       "    }\n",
       "\n",
       "    .dataframe thead th {\n",
       "        text-align: right;\n",
       "    }\n",
       "</style>\n",
       "<table border=\"1\" class=\"dataframe\">\n",
       "  <thead>\n",
       "    <tr style=\"text-align: right;\">\n",
       "      <th></th>\n",
       "      <th>Text</th>\n",
       "      <th>cluster_1</th>\n",
       "      <th>cluster_2</th>\n",
       "      <th>cluster_3</th>\n",
       "      <th>cluster_4</th>\n",
       "      <th>cluster_5</th>\n",
       "    </tr>\n",
       "  </thead>\n",
       "  <tbody>\n",
       "    <tr>\n",
       "      <th>0</th>\n",
       "      <td>point focus ask right question right go tone accommodate impress</td>\n",
       "      <td>0.018430</td>\n",
       "      <td>0.925589</td>\n",
       "      <td>0.018915</td>\n",
       "      <td>0.018591</td>\n",
       "      <td>0.018476</td>\n",
       "    </tr>\n",
       "    <tr>\n",
       "      <th>1</th>\n",
       "      <td>explain issue body tell solve rather prescribe medicine</td>\n",
       "      <td>0.022489</td>\n",
       "      <td>0.022987</td>\n",
       "      <td>0.351128</td>\n",
       "      <td>0.580857</td>\n",
       "      <td>0.022539</td>\n",
       "    </tr>\n",
       "    <tr>\n",
       "      <th>2</th>\n",
       "      <td>listen patiently explain everything advise medicine get little releif overall thank</td>\n",
       "      <td>0.016923</td>\n",
       "      <td>0.017184</td>\n",
       "      <td>0.931715</td>\n",
       "      <td>0.017096</td>\n",
       "      <td>0.017082</td>\n",
       "    </tr>\n",
       "    <tr>\n",
       "      <th>3</th>\n",
       "      <td>wonderfull explain clearly perfectly alright</td>\n",
       "      <td>0.034654</td>\n",
       "      <td>0.034745</td>\n",
       "      <td>0.035038</td>\n",
       "      <td>0.860519</td>\n",
       "      <td>0.035044</td>\n",
       "    </tr>\n",
       "    <tr>\n",
       "      <th>4</th>\n",
       "      <td>book practo wait charge extra top seriously donot understand need book practo never app anyone go directly save money</td>\n",
       "      <td>0.662085</td>\n",
       "      <td>0.307242</td>\n",
       "      <td>0.010242</td>\n",
       "      <td>0.010354</td>\n",
       "      <td>0.010077</td>\n",
       "    </tr>\n",
       "  </tbody>\n",
       "</table>\n",
       "</div>"
      ],
      "text/plain": [
       "                                                                                                                    Text  \\\n",
       "0  point focus ask right question right go tone accommodate impress                                                        \n",
       "1  explain issue body tell solve rather prescribe medicine                                                                 \n",
       "2  listen patiently explain everything advise medicine get little releif overall thank                                     \n",
       "3  wonderfull explain clearly perfectly alright                                                                            \n",
       "4  book practo wait charge extra top seriously donot understand need book practo never app anyone go directly save money   \n",
       "\n",
       "   cluster_1  cluster_2  cluster_3  cluster_4  cluster_5  \n",
       "0  0.018430   0.925589   0.018915   0.018591   0.018476   \n",
       "1  0.022489   0.022987   0.351128   0.580857   0.022539   \n",
       "2  0.016923   0.017184   0.931715   0.017096   0.017082   \n",
       "3  0.034654   0.034745   0.035038   0.860519   0.035044   \n",
       "4  0.662085   0.307242   0.010242   0.010354   0.010077   "
      ]
     },
     "execution_count": 35,
     "metadata": {},
     "output_type": "execute_result"
    }
   ],
   "source": [
    "Topics_data.head() "
   ]
  },
  {
   "cell_type": "markdown",
   "metadata": {},
   "source": [
    "## K-Means Clustering"
   ]
  },
  {
   "cell_type": "code",
   "execution_count": 114,
   "metadata": {
    "ExecuteTime": {
     "end_time": "2020-03-13T16:36:35.585376Z",
     "start_time": "2020-03-13T16:36:05.984542Z"
    },
    "scrolled": false
   },
   "outputs": [
    {
     "name": "stdout",
     "output_type": "stream",
     "text": [
      "Cluster 0\n",
      "\n",
      "medicine\n",
      "test\n",
      "prescribe\n",
      "donot\n",
      "prescribe medicine\n",
      "unnecessary\n",
      "day\n",
      "visit\n",
      "suggest\n",
      "ask\n",
      "\n",
      "\n",
      "Cluster 1\n",
      "\n",
      "explain\n",
      "friendly\n",
      "issue\n",
      "time\n",
      "friendly explain\n",
      "treatment\n",
      "explain issue\n",
      "clearly\n",
      "cause\n",
      "health\n",
      "\n",
      "\n",
      "Cluster 2\n",
      "\n",
      "listen\n",
      "patiently\n",
      "carefully\n",
      "listen carefully\n",
      "listen patiently\n",
      "medicine\n",
      "friendly\n",
      "time\n",
      "patience\n",
      "suggest\n",
      "\n",
      "\n",
      "Cluster 3\n",
      "\n",
      "time\n",
      "friendly\n",
      "visit\n",
      "understand\n",
      "thank\n",
      "clinic\n",
      "treat\n",
      "nice\n",
      "issue\n",
      "care\n",
      "\n",
      "\n",
      "Cluster 4\n",
      "\n",
      "treatment\n",
      "satisfy\n",
      "satisfy treatment\n",
      "happy\n",
      "thank\n",
      "friendly\n",
      "visit\n",
      "time\n",
      "result\n",
      "happy treatment\n",
      "\n",
      "\n"
     ]
    }
   ],
   "source": [
    "tf_idf = TfidfVectorizer(stop_words='english', ngram_range=(1, 5), min_df=25, max_df=0.98)\n",
    "tf_idf_vecs = tf_idf.fit_transform(documents)\n",
    "\n",
    "lsa = TruncatedSVD(n_components=500)\n",
    "lsa_vecs = lsa.fit_transform(tf_idf_vecs)\n",
    "lsa_vecs = Normalizer(copy=False).fit_transform(lsa_vecs)\n",
    "feature_names = tf_idf.get_feature_names()\n",
    "lsa_df = pd.DataFrame(lsa.components_.round(5), columns=feature_names)\n",
    "\n",
    "km = KMeans(n_clusters=5)\n",
    "km.fit(lsa_vecs)\n",
    "clusters = km.predict(lsa_vecs)\n",
    "\n",
    "km.cluster_centers_.shape\n",
    "\n",
    "original_space_centroids = lsa.inverse_transform(km.cluster_centers_)\n",
    "original_space_centroids.shape\n",
    "\n",
    "order_centroids = original_space_centroids.argsort()[:, ::-1]\n",
    "order_centroids.shape\n",
    "\n",
    "clusters=[]\n",
    "topics=[]\n",
    "\n",
    "\n",
    "\n",
    "for cluster in range(5):\n",
    "    features = order_centroids[cluster,0:10]\n",
    "    print('Cluster {}\\n'.format(cluster))\n",
    "    for feature in features:\n",
    "        print(feature_names[feature])\n",
    "        topics.append(feature_names[feature])\n",
    "    clusters.append(topics)\n",
    "    topics=[]\n",
    "    print('\\n')"
   ]
  },
  {
   "cell_type": "markdown",
   "metadata": {},
   "source": [
    "## determining the cluster distance"
   ]
  },
  {
   "cell_type": "code",
   "execution_count": 37,
   "metadata": {
    "ExecuteTime": {
     "end_time": "2020-03-13T07:58:35.458037Z",
     "start_time": "2020-03-13T07:58:35.398114Z"
    },
    "scrolled": true
   },
   "outputs": [],
   "source": [
    "sq_distance=km.transform(lsa_vecs)**2\n",
    "# do something useful...\n",
    "import pandas as pd\n",
    "df = pd.DataFrame(sq_distance.sum(axis=1).round(2), columns=['sqdist'])\n",
    "df['cluster'] = km.labels_\n",
    "\n",
    "\n",
    "df['reviews']=data['reviews_stop_words_1']\n",
    "df['recom']=data['sentiment(Recommendation)']\n",
    "df['sentiment_vader']=data['sentiment_vader']\n",
    "df=df.join(pd.DataFrame({'cluster 0': sq_distance[:, 0], 'cluster 1': sq_distance[:, 1],'cluster 2': sq_distance[:, 2],'cluster 3': sq_distance[:, 3],'cluster 4': sq_distance[:, 4]}))\n"
   ]
  },
  {
   "cell_type": "code",
   "execution_count": 38,
   "metadata": {
    "ExecuteTime": {
     "end_time": "2020-03-13T07:58:35.533935Z",
     "start_time": "2020-03-13T07:58:35.458037Z"
    }
   },
   "outputs": [
    {
     "data": {
      "text/html": [
       "<div>\n",
       "<style scoped>\n",
       "    .dataframe tbody tr th:only-of-type {\n",
       "        vertical-align: middle;\n",
       "    }\n",
       "\n",
       "    .dataframe tbody tr th {\n",
       "        vertical-align: top;\n",
       "    }\n",
       "\n",
       "    .dataframe thead th {\n",
       "        text-align: right;\n",
       "    }\n",
       "</style>\n",
       "<table border=\"1\" class=\"dataframe\">\n",
       "  <thead>\n",
       "    <tr style=\"text-align: right;\">\n",
       "      <th></th>\n",
       "      <th>sqdist</th>\n",
       "      <th>cluster</th>\n",
       "      <th>reviews</th>\n",
       "      <th>recom</th>\n",
       "      <th>sentiment_vader</th>\n",
       "      <th>cluster 0</th>\n",
       "      <th>cluster 1</th>\n",
       "      <th>cluster 2</th>\n",
       "      <th>cluster 3</th>\n",
       "      <th>cluster 4</th>\n",
       "    </tr>\n",
       "  </thead>\n",
       "  <tbody>\n",
       "    <tr>\n",
       "      <th>0</th>\n",
       "      <td>5.21</td>\n",
       "      <td>0</td>\n",
       "      <td>point focus ask right question right go tone accommodate impress</td>\n",
       "      <td>Positive</td>\n",
       "      <td>Positive</td>\n",
       "      <td>0.998787</td>\n",
       "      <td>1.067678</td>\n",
       "      <td>1.054829</td>\n",
       "      <td>1.052639</td>\n",
       "      <td>1.032337</td>\n",
       "    </tr>\n",
       "    <tr>\n",
       "      <th>1</th>\n",
       "      <td>4.93</td>\n",
       "      <td>4</td>\n",
       "      <td>explain issue body tell solve rather prescribe medicine</td>\n",
       "      <td>Positive</td>\n",
       "      <td>Positive</td>\n",
       "      <td>0.974342</td>\n",
       "      <td>1.021261</td>\n",
       "      <td>1.020406</td>\n",
       "      <td>1.030412</td>\n",
       "      <td>0.879643</td>\n",
       "    </tr>\n",
       "    <tr>\n",
       "      <th>2</th>\n",
       "      <td>4.85</td>\n",
       "      <td>1</td>\n",
       "      <td>listen patiently explain everything advise medicine get little releif overall thank</td>\n",
       "      <td>Positive</td>\n",
       "      <td>Positive</td>\n",
       "      <td>0.979495</td>\n",
       "      <td>0.851460</td>\n",
       "      <td>1.027747</td>\n",
       "      <td>1.022353</td>\n",
       "      <td>0.968057</td>\n",
       "    </tr>\n",
       "    <tr>\n",
       "      <th>3</th>\n",
       "      <td>5.21</td>\n",
       "      <td>0</td>\n",
       "      <td>wonderfull explain clearly perfectly alright</td>\n",
       "      <td>Positive</td>\n",
       "      <td>Positive</td>\n",
       "      <td>0.993854</td>\n",
       "      <td>1.064096</td>\n",
       "      <td>1.052984</td>\n",
       "      <td>1.047494</td>\n",
       "      <td>1.049153</td>\n",
       "    </tr>\n",
       "    <tr>\n",
       "      <th>4</th>\n",
       "      <td>5.08</td>\n",
       "      <td>2</td>\n",
       "      <td>book practo wait charge extra top seriously donot understand need book practo never app anyone go directly save money</td>\n",
       "      <td>Negative</td>\n",
       "      <td>Positive</td>\n",
       "      <td>0.994511</td>\n",
       "      <td>1.069628</td>\n",
       "      <td>0.952919</td>\n",
       "      <td>1.050145</td>\n",
       "      <td>1.016151</td>\n",
       "    </tr>\n",
       "  </tbody>\n",
       "</table>\n",
       "</div>"
      ],
      "text/plain": [
       "   sqdist  cluster  \\\n",
       "0  5.21    0         \n",
       "1  4.93    4         \n",
       "2  4.85    1         \n",
       "3  5.21    0         \n",
       "4  5.08    2         \n",
       "\n",
       "                                                                                                                 reviews  \\\n",
       "0  point focus ask right question right go tone accommodate impress                                                        \n",
       "1  explain issue body tell solve rather prescribe medicine                                                                 \n",
       "2  listen patiently explain everything advise medicine get little releif overall thank                                     \n",
       "3  wonderfull explain clearly perfectly alright                                                                            \n",
       "4  book practo wait charge extra top seriously donot understand need book practo never app anyone go directly save money   \n",
       "\n",
       "      recom sentiment_vader  cluster 0  cluster 1  cluster 2  cluster 3  \\\n",
       "0  Positive  Positive        0.998787   1.067678   1.054829   1.052639    \n",
       "1  Positive  Positive        0.974342   1.021261   1.020406   1.030412    \n",
       "2  Positive  Positive        0.979495   0.851460   1.027747   1.022353    \n",
       "3  Positive  Positive        0.993854   1.064096   1.052984   1.047494    \n",
       "4  Negative  Positive        0.994511   1.069628   0.952919   1.050145    \n",
       "\n",
       "   cluster 4  \n",
       "0  1.032337   \n",
       "1  0.879643   \n",
       "2  0.968057   \n",
       "3  1.049153   \n",
       "4  1.016151   "
      ]
     },
     "execution_count": 38,
     "metadata": {},
     "output_type": "execute_result"
    }
   ],
   "source": [
    "df.head()"
   ]
  },
  {
   "cell_type": "code",
   "execution_count": null,
   "metadata": {
    "ExecuteTime": {
     "end_time": "2020-03-09T04:26:48.210697Z",
     "start_time": "2020-03-09T04:26:48.180367Z"
    },
    "scrolled": true
   },
   "outputs": [],
   "source": []
  },
  {
   "cell_type": "code",
   "execution_count": null,
   "metadata": {
    "ExecuteTime": {
     "end_time": "2020-03-09T03:31:11.575847Z",
     "start_time": "2020-03-09T03:31:11.563862Z"
    }
   },
   "outputs": [],
   "source": []
  },
  {
   "cell_type": "markdown",
   "metadata": {
    "ExecuteTime": {
     "end_time": "2020-02-13T03:51:41.940492Z",
     "start_time": "2020-02-13T03:51:41.932505Z"
    }
   },
   "source": [
    "## Tagging the cluster Name"
   ]
  },
  {
   "cell_type": "code",
   "execution_count": 101,
   "metadata": {
    "ExecuteTime": {
     "end_time": "2020-03-13T15:54:35.724261Z",
     "start_time": "2020-03-13T15:54:35.716271Z"
    }
   },
   "outputs": [],
   "source": [
    "def cluster(row):\n",
    "    cluster_no=row['cluster']\n",
    "    if cluster_no==0:\n",
    "        return 'nature of treatment'\n",
    "    if cluster_no==1:\n",
    "        return 'doctor-interaction'\n",
    "    if cluster_no==2:\n",
    "        return 'pre-booking'\n",
    "    if cluster_no==3:\n",
    "        return 'post-treatment'\n",
    "    if cluster_no==4:\n",
    "        return 'medicine'"
   ]
  },
  {
   "cell_type": "code",
   "execution_count": 102,
   "metadata": {
    "ExecuteTime": {
     "end_time": "2020-03-13T15:54:44.649674Z",
     "start_time": "2020-03-13T15:54:44.287264Z"
    }
   },
   "outputs": [],
   "source": [
    "df['topics']=df.apply(lambda row:cluster(row),axis=1)"
   ]
  },
  {
   "cell_type": "code",
   "execution_count": 103,
   "metadata": {
    "ExecuteTime": {
     "end_time": "2020-03-13T15:54:53.845096Z",
     "start_time": "2020-03-13T15:54:53.829118Z"
    }
   },
   "outputs": [
    {
     "data": {
      "text/html": [
       "<div>\n",
       "<style scoped>\n",
       "    .dataframe tbody tr th:only-of-type {\n",
       "        vertical-align: middle;\n",
       "    }\n",
       "\n",
       "    .dataframe tbody tr th {\n",
       "        vertical-align: top;\n",
       "    }\n",
       "\n",
       "    .dataframe thead th {\n",
       "        text-align: right;\n",
       "    }\n",
       "</style>\n",
       "<table border=\"1\" class=\"dataframe\">\n",
       "  <thead>\n",
       "    <tr style=\"text-align: right;\">\n",
       "      <th></th>\n",
       "      <th>sqdist</th>\n",
       "      <th>cluster</th>\n",
       "      <th>reviews</th>\n",
       "      <th>recom</th>\n",
       "      <th>sentiment_vader</th>\n",
       "      <th>cluster 0</th>\n",
       "      <th>cluster 1</th>\n",
       "      <th>cluster 2</th>\n",
       "      <th>cluster 3</th>\n",
       "      <th>cluster 4</th>\n",
       "      <th>topics</th>\n",
       "    </tr>\n",
       "  </thead>\n",
       "  <tbody>\n",
       "    <tr>\n",
       "      <th>0</th>\n",
       "      <td>5.21</td>\n",
       "      <td>0</td>\n",
       "      <td>point focus ask right question right go tone accommodate impress</td>\n",
       "      <td>Positive</td>\n",
       "      <td>Positive</td>\n",
       "      <td>0.998787</td>\n",
       "      <td>1.067678</td>\n",
       "      <td>1.054829</td>\n",
       "      <td>1.052639</td>\n",
       "      <td>1.032337</td>\n",
       "      <td>nature of treatment</td>\n",
       "    </tr>\n",
       "    <tr>\n",
       "      <th>1</th>\n",
       "      <td>4.93</td>\n",
       "      <td>4</td>\n",
       "      <td>explain issue body tell solve rather prescribe medicine</td>\n",
       "      <td>Positive</td>\n",
       "      <td>Positive</td>\n",
       "      <td>0.974342</td>\n",
       "      <td>1.021261</td>\n",
       "      <td>1.020406</td>\n",
       "      <td>1.030412</td>\n",
       "      <td>0.879643</td>\n",
       "      <td>medicine</td>\n",
       "    </tr>\n",
       "    <tr>\n",
       "      <th>2</th>\n",
       "      <td>4.85</td>\n",
       "      <td>1</td>\n",
       "      <td>listen patiently explain everything advise medicine get little releif overall thank</td>\n",
       "      <td>Positive</td>\n",
       "      <td>Positive</td>\n",
       "      <td>0.979495</td>\n",
       "      <td>0.851460</td>\n",
       "      <td>1.027747</td>\n",
       "      <td>1.022353</td>\n",
       "      <td>0.968057</td>\n",
       "      <td>doctor-interaction</td>\n",
       "    </tr>\n",
       "    <tr>\n",
       "      <th>3</th>\n",
       "      <td>5.21</td>\n",
       "      <td>0</td>\n",
       "      <td>wonderfull explain clearly perfectly alright</td>\n",
       "      <td>Positive</td>\n",
       "      <td>Positive</td>\n",
       "      <td>0.993854</td>\n",
       "      <td>1.064096</td>\n",
       "      <td>1.052984</td>\n",
       "      <td>1.047494</td>\n",
       "      <td>1.049153</td>\n",
       "      <td>nature of treatment</td>\n",
       "    </tr>\n",
       "    <tr>\n",
       "      <th>4</th>\n",
       "      <td>5.08</td>\n",
       "      <td>2</td>\n",
       "      <td>book practo wait charge extra top seriously donot understand need book practo never app anyone go directly save money</td>\n",
       "      <td>Negative</td>\n",
       "      <td>Positive</td>\n",
       "      <td>0.994511</td>\n",
       "      <td>1.069628</td>\n",
       "      <td>0.952919</td>\n",
       "      <td>1.050145</td>\n",
       "      <td>1.016151</td>\n",
       "      <td>pre-booking</td>\n",
       "    </tr>\n",
       "  </tbody>\n",
       "</table>\n",
       "</div>"
      ],
      "text/plain": [
       "   sqdist  cluster  \\\n",
       "0  5.21    0         \n",
       "1  4.93    4         \n",
       "2  4.85    1         \n",
       "3  5.21    0         \n",
       "4  5.08    2         \n",
       "\n",
       "                                                                                                                 reviews  \\\n",
       "0  point focus ask right question right go tone accommodate impress                                                        \n",
       "1  explain issue body tell solve rather prescribe medicine                                                                 \n",
       "2  listen patiently explain everything advise medicine get little releif overall thank                                     \n",
       "3  wonderfull explain clearly perfectly alright                                                                            \n",
       "4  book practo wait charge extra top seriously donot understand need book practo never app anyone go directly save money   \n",
       "\n",
       "      recom sentiment_vader  cluster 0  cluster 1  cluster 2  cluster 3  \\\n",
       "0  Positive  Positive        0.998787   1.067678   1.054829   1.052639    \n",
       "1  Positive  Positive        0.974342   1.021261   1.020406   1.030412    \n",
       "2  Positive  Positive        0.979495   0.851460   1.027747   1.022353    \n",
       "3  Positive  Positive        0.993854   1.064096   1.052984   1.047494    \n",
       "4  Negative  Positive        0.994511   1.069628   0.952919   1.050145    \n",
       "\n",
       "   cluster 4               topics  \n",
       "0  1.032337   nature of treatment  \n",
       "1  0.879643   medicine             \n",
       "2  0.968057   doctor-interaction   \n",
       "3  1.049153   nature of treatment  \n",
       "4  1.016151   pre-booking          "
      ]
     },
     "execution_count": 103,
     "metadata": {},
     "output_type": "execute_result"
    }
   ],
   "source": [
    "df.head()"
   ]
  },
  {
   "cell_type": "code",
   "execution_count": 104,
   "metadata": {
    "ExecuteTime": {
     "end_time": "2020-03-13T15:55:03.644165Z",
     "start_time": "2020-03-13T15:55:03.556279Z"
    },
    "scrolled": true
   },
   "outputs": [
    {
     "data": {
      "text/html": [
       "<div>\n",
       "<style scoped>\n",
       "    .dataframe tbody tr th:only-of-type {\n",
       "        vertical-align: middle;\n",
       "    }\n",
       "\n",
       "    .dataframe tbody tr th {\n",
       "        vertical-align: top;\n",
       "    }\n",
       "\n",
       "    .dataframe thead th {\n",
       "        text-align: right;\n",
       "    }\n",
       "</style>\n",
       "<table border=\"1\" class=\"dataframe\">\n",
       "  <thead>\n",
       "    <tr style=\"text-align: right;\">\n",
       "      <th></th>\n",
       "      <th>sqdist</th>\n",
       "      <th>cluster</th>\n",
       "      <th>reviews</th>\n",
       "      <th>recom</th>\n",
       "      <th>sentiment_vader</th>\n",
       "      <th>cluster 0</th>\n",
       "      <th>cluster 1</th>\n",
       "      <th>cluster 2</th>\n",
       "      <th>cluster 3</th>\n",
       "      <th>cluster 4</th>\n",
       "      <th>topics</th>\n",
       "    </tr>\n",
       "  </thead>\n",
       "  <tbody>\n",
       "    <tr>\n",
       "      <th>4</th>\n",
       "      <td>5.08</td>\n",
       "      <td>2</td>\n",
       "      <td>book practo wait charge extra top seriously donot understand need book practo never app anyone go directly save money</td>\n",
       "      <td>Negative</td>\n",
       "      <td>Positive</td>\n",
       "      <td>0.994511</td>\n",
       "      <td>1.069628</td>\n",
       "      <td>0.952919</td>\n",
       "      <td>1.050145</td>\n",
       "      <td>1.016151</td>\n",
       "      <td>pre-booking</td>\n",
       "    </tr>\n",
       "    <tr>\n",
       "      <th>5</th>\n",
       "      <td>4.93</td>\n",
       "      <td>2</td>\n",
       "      <td>wait time will understand explain detail overall satisfaction</td>\n",
       "      <td>Positive</td>\n",
       "      <td>Positive</td>\n",
       "      <td>0.985120</td>\n",
       "      <td>1.043368</td>\n",
       "      <td>0.850365</td>\n",
       "      <td>1.026981</td>\n",
       "      <td>1.028338</td>\n",
       "      <td>pre-booking</td>\n",
       "    </tr>\n",
       "    <tr>\n",
       "      <th>10</th>\n",
       "      <td>4.98</td>\n",
       "      <td>2</td>\n",
       "      <td>uma explain issue well 'm still medication wait full course get overall</td>\n",
       "      <td>Positive</td>\n",
       "      <td>Positive</td>\n",
       "      <td>0.963742</td>\n",
       "      <td>1.020549</td>\n",
       "      <td>0.957897</td>\n",
       "      <td>1.022534</td>\n",
       "      <td>1.014373</td>\n",
       "      <td>pre-booking</td>\n",
       "    </tr>\n",
       "    <tr>\n",
       "      <th>25</th>\n",
       "      <td>4.84</td>\n",
       "      <td>2</td>\n",
       "      <td>friendly explain issue wait time hire receptionist help</td>\n",
       "      <td>Positive</td>\n",
       "      <td>Positive</td>\n",
       "      <td>0.951231</td>\n",
       "      <td>1.022816</td>\n",
       "      <td>0.846471</td>\n",
       "      <td>1.009089</td>\n",
       "      <td>1.010513</td>\n",
       "      <td>pre-booking</td>\n",
       "    </tr>\n",
       "    <tr>\n",
       "      <th>43</th>\n",
       "      <td>4.91</td>\n",
       "      <td>2</td>\n",
       "      <td>spend time explain health issue cause medicine detail explain cause eliminate diet well</td>\n",
       "      <td>Positive</td>\n",
       "      <td>Positive</td>\n",
       "      <td>0.961045</td>\n",
       "      <td>1.017931</td>\n",
       "      <td>0.936104</td>\n",
       "      <td>1.019010</td>\n",
       "      <td>0.977301</td>\n",
       "      <td>pre-booking</td>\n",
       "    </tr>\n",
       "  </tbody>\n",
       "</table>\n",
       "</div>"
      ],
      "text/plain": [
       "    sqdist  cluster  \\\n",
       "4   5.08    2         \n",
       "5   4.93    2         \n",
       "10  4.98    2         \n",
       "25  4.84    2         \n",
       "43  4.91    2         \n",
       "\n",
       "                                                                                                                  reviews  \\\n",
       "4   book practo wait charge extra top seriously donot understand need book practo never app anyone go directly save money   \n",
       "5   wait time will understand explain detail overall satisfaction                                                           \n",
       "10  uma explain issue well 'm still medication wait full course get overall                                                 \n",
       "25  friendly explain issue wait time hire receptionist help                                                                 \n",
       "43  spend time explain health issue cause medicine detail explain cause eliminate diet well                                 \n",
       "\n",
       "       recom sentiment_vader  cluster 0  cluster 1  cluster 2  cluster 3  \\\n",
       "4   Negative  Positive        0.994511   1.069628   0.952919   1.050145    \n",
       "5   Positive  Positive        0.985120   1.043368   0.850365   1.026981    \n",
       "10  Positive  Positive        0.963742   1.020549   0.957897   1.022534    \n",
       "25  Positive  Positive        0.951231   1.022816   0.846471   1.009089    \n",
       "43  Positive  Positive        0.961045   1.017931   0.936104   1.019010    \n",
       "\n",
       "    cluster 4       topics  \n",
       "4   1.016151   pre-booking  \n",
       "5   1.028338   pre-booking  \n",
       "10  1.014373   pre-booking  \n",
       "25  1.010513   pre-booking  \n",
       "43  0.977301   pre-booking  "
      ]
     },
     "execution_count": 104,
     "metadata": {},
     "output_type": "execute_result"
    }
   ],
   "source": [
    "df[df.topics=='pre-booking'].head(5)"
   ]
  },
  {
   "cell_type": "code",
   "execution_count": 106,
   "metadata": {
    "ExecuteTime": {
     "end_time": "2020-03-13T15:55:37.253857Z",
     "start_time": "2020-03-13T15:55:37.225882Z"
    }
   },
   "outputs": [
    {
     "data": {
      "text/html": [
       "<div>\n",
       "<style scoped>\n",
       "    .dataframe tbody tr th:only-of-type {\n",
       "        vertical-align: middle;\n",
       "    }\n",
       "\n",
       "    .dataframe tbody tr th {\n",
       "        vertical-align: top;\n",
       "    }\n",
       "\n",
       "    .dataframe thead th {\n",
       "        text-align: right;\n",
       "    }\n",
       "</style>\n",
       "<table border=\"1\" class=\"dataframe\">\n",
       "  <thead>\n",
       "    <tr style=\"text-align: right;\">\n",
       "      <th></th>\n",
       "      <th>sqdist</th>\n",
       "      <th>cluster</th>\n",
       "      <th>reviews</th>\n",
       "      <th>recom</th>\n",
       "      <th>sentiment_vader</th>\n",
       "      <th>cluster 0</th>\n",
       "      <th>cluster 1</th>\n",
       "      <th>cluster 2</th>\n",
       "      <th>cluster 3</th>\n",
       "      <th>cluster 4</th>\n",
       "      <th>topics</th>\n",
       "    </tr>\n",
       "  </thead>\n",
       "  <tbody>\n",
       "    <tr>\n",
       "      <th>2</th>\n",
       "      <td>4.85</td>\n",
       "      <td>1</td>\n",
       "      <td>listen patiently explain everything advise medicine get little releif overall thank</td>\n",
       "      <td>Positive</td>\n",
       "      <td>Positive</td>\n",
       "      <td>0.979495</td>\n",
       "      <td>0.851460</td>\n",
       "      <td>1.027747</td>\n",
       "      <td>1.022353</td>\n",
       "      <td>0.968057</td>\n",
       "      <td>doctor-interaction</td>\n",
       "    </tr>\n",
       "    <tr>\n",
       "      <th>13</th>\n",
       "      <td>4.82</td>\n",
       "      <td>1</td>\n",
       "      <td>second consultation uma helpful first time listen patiently explain thing clearly not take lot time blast difficult medical term 5 5 highly around e city area</td>\n",
       "      <td>Positive</td>\n",
       "      <td>Positive</td>\n",
       "      <td>0.971508</td>\n",
       "      <td>0.905393</td>\n",
       "      <td>0.913699</td>\n",
       "      <td>1.022300</td>\n",
       "      <td>1.008866</td>\n",
       "      <td>doctor-interaction</td>\n",
       "    </tr>\n",
       "    <tr>\n",
       "      <th>17</th>\n",
       "      <td>4.85</td>\n",
       "      <td>1</td>\n",
       "      <td>listen carefully examine detail give clear explanation also advise medicine suggest</td>\n",
       "      <td>Positive</td>\n",
       "      <td>Positive</td>\n",
       "      <td>0.990377</td>\n",
       "      <td>0.843170</td>\n",
       "      <td>1.039108</td>\n",
       "      <td>1.029744</td>\n",
       "      <td>0.949785</td>\n",
       "      <td>doctor-interaction</td>\n",
       "    </tr>\n",
       "    <tr>\n",
       "      <th>22</th>\n",
       "      <td>5.01</td>\n",
       "      <td>1</td>\n",
       "      <td>descent actually listen give detail explanation cause disease thank</td>\n",
       "      <td>Positive</td>\n",
       "      <td>Positive</td>\n",
       "      <td>0.975667</td>\n",
       "      <td>0.940159</td>\n",
       "      <td>1.037860</td>\n",
       "      <td>1.021203</td>\n",
       "      <td>1.030283</td>\n",
       "      <td>doctor-interaction</td>\n",
       "    </tr>\n",
       "    <tr>\n",
       "      <th>23</th>\n",
       "      <td>4.89</td>\n",
       "      <td>1</td>\n",
       "      <td>nice listen carefully tell cause viral fever got best treatment thank mam</td>\n",
       "      <td>Positive</td>\n",
       "      <td>Positive</td>\n",
       "      <td>0.979473</td>\n",
       "      <td>0.899856</td>\n",
       "      <td>1.035006</td>\n",
       "      <td>0.961777</td>\n",
       "      <td>1.009584</td>\n",
       "      <td>doctor-interaction</td>\n",
       "    </tr>\n",
       "  </tbody>\n",
       "</table>\n",
       "</div>"
      ],
      "text/plain": [
       "    sqdist  cluster  \\\n",
       "2   4.85    1         \n",
       "13  4.82    1         \n",
       "17  4.85    1         \n",
       "22  5.01    1         \n",
       "23  4.89    1         \n",
       "\n",
       "                                                                                                                                                           reviews  \\\n",
       "2   listen patiently explain everything advise medicine get little releif overall thank                                                                              \n",
       "13  second consultation uma helpful first time listen patiently explain thing clearly not take lot time blast difficult medical term 5 5 highly around e city area   \n",
       "17  listen carefully examine detail give clear explanation also advise medicine suggest                                                                              \n",
       "22  descent actually listen give detail explanation cause disease thank                                                                                              \n",
       "23  nice listen carefully tell cause viral fever got best treatment thank mam                                                                                        \n",
       "\n",
       "       recom sentiment_vader  cluster 0  cluster 1  cluster 2  cluster 3  \\\n",
       "2   Positive  Positive        0.979495   0.851460   1.027747   1.022353    \n",
       "13  Positive  Positive        0.971508   0.905393   0.913699   1.022300    \n",
       "17  Positive  Positive        0.990377   0.843170   1.039108   1.029744    \n",
       "22  Positive  Positive        0.975667   0.940159   1.037860   1.021203    \n",
       "23  Positive  Positive        0.979473   0.899856   1.035006   0.961777    \n",
       "\n",
       "    cluster 4              topics  \n",
       "2   0.968057   doctor-interaction  \n",
       "13  1.008866   doctor-interaction  \n",
       "17  0.949785   doctor-interaction  \n",
       "22  1.030283   doctor-interaction  \n",
       "23  1.009584   doctor-interaction  "
      ]
     },
     "execution_count": 106,
     "metadata": {},
     "output_type": "execute_result"
    }
   ],
   "source": [
    "df[df.topics=='doctor-interaction'].head(5)"
   ]
  },
  {
   "cell_type": "code",
   "execution_count": 66,
   "metadata": {
    "ExecuteTime": {
     "end_time": "2020-03-13T08:08:00.745954Z",
     "start_time": "2020-03-13T08:08:00.725979Z"
    }
   },
   "outputs": [
    {
     "data": {
      "text/html": [
       "<div>\n",
       "<style scoped>\n",
       "    .dataframe tbody tr th:only-of-type {\n",
       "        vertical-align: middle;\n",
       "    }\n",
       "\n",
       "    .dataframe tbody tr th {\n",
       "        vertical-align: top;\n",
       "    }\n",
       "\n",
       "    .dataframe thead th {\n",
       "        text-align: right;\n",
       "    }\n",
       "</style>\n",
       "<table border=\"1\" class=\"dataframe\">\n",
       "  <thead>\n",
       "    <tr style=\"text-align: right;\">\n",
       "      <th></th>\n",
       "      <th>sqdist</th>\n",
       "      <th>cluster</th>\n",
       "      <th>reviews</th>\n",
       "      <th>recom</th>\n",
       "      <th>sentiment_vader</th>\n",
       "      <th>cluster 0</th>\n",
       "      <th>cluster 1</th>\n",
       "      <th>cluster 2</th>\n",
       "      <th>cluster 3</th>\n",
       "      <th>cluster 4</th>\n",
       "      <th>topics</th>\n",
       "    </tr>\n",
       "  </thead>\n",
       "  <tbody>\n",
       "    <tr>\n",
       "      <th>0</th>\n",
       "      <td>5.21</td>\n",
       "      <td>0</td>\n",
       "      <td>point focus ask right question right go tone accommodate impress</td>\n",
       "      <td>Positive</td>\n",
       "      <td>Positive</td>\n",
       "      <td>0.998787</td>\n",
       "      <td>1.067678</td>\n",
       "      <td>1.054829</td>\n",
       "      <td>1.052639</td>\n",
       "      <td>1.032337</td>\n",
       "      <td>nature of treatment</td>\n",
       "    </tr>\n",
       "    <tr>\n",
       "      <th>3</th>\n",
       "      <td>5.21</td>\n",
       "      <td>0</td>\n",
       "      <td>wonderfull explain clearly perfectly alright</td>\n",
       "      <td>Positive</td>\n",
       "      <td>Positive</td>\n",
       "      <td>0.993854</td>\n",
       "      <td>1.064096</td>\n",
       "      <td>1.052984</td>\n",
       "      <td>1.047494</td>\n",
       "      <td>1.049153</td>\n",
       "      <td>nature of treatment</td>\n",
       "    </tr>\n",
       "    <tr>\n",
       "      <th>6</th>\n",
       "      <td>5.11</td>\n",
       "      <td>0</td>\n",
       "      <td>do explaine everything well also must tell receptionist unprofessional present think treat badlyi nothing bad tell donot get teach girl receptionist talk people</td>\n",
       "      <td>Negative</td>\n",
       "      <td>Negative</td>\n",
       "      <td>0.981766</td>\n",
       "      <td>1.067432</td>\n",
       "      <td>1.011218</td>\n",
       "      <td>1.052485</td>\n",
       "      <td>0.999782</td>\n",
       "      <td>nature of treatment</td>\n",
       "    </tr>\n",
       "    <tr>\n",
       "      <th>9</th>\n",
       "      <td>4.98</td>\n",
       "      <td>0</td>\n",
       "      <td>uma excellent earth friendly need patience explain issue treatment option clearly half solve positive attitude approach god bless</td>\n",
       "      <td>Positive</td>\n",
       "      <td>Positive</td>\n",
       "      <td>0.947786</td>\n",
       "      <td>1.024944</td>\n",
       "      <td>1.019345</td>\n",
       "      <td>0.962346</td>\n",
       "      <td>1.020828</td>\n",
       "      <td>nature of treatment</td>\n",
       "    </tr>\n",
       "    <tr>\n",
       "      <th>11</th>\n",
       "      <td>4.97</td>\n",
       "      <td>0</td>\n",
       "      <td>nice way explain help understand issue also wait period less recomend</td>\n",
       "      <td>Positive</td>\n",
       "      <td>Positive</td>\n",
       "      <td>0.951022</td>\n",
       "      <td>1.031587</td>\n",
       "      <td>0.962197</td>\n",
       "      <td>1.010604</td>\n",
       "      <td>1.018872</td>\n",
       "      <td>nature of treatment</td>\n",
       "    </tr>\n",
       "  </tbody>\n",
       "</table>\n",
       "</div>"
      ],
      "text/plain": [
       "    sqdist  cluster  \\\n",
       "0   5.21    0         \n",
       "3   5.21    0         \n",
       "6   5.11    0         \n",
       "9   4.98    0         \n",
       "11  4.97    0         \n",
       "\n",
       "                                                                                                                                                             reviews  \\\n",
       "0   point focus ask right question right go tone accommodate impress                                                                                                   \n",
       "3   wonderfull explain clearly perfectly alright                                                                                                                       \n",
       "6   do explaine everything well also must tell receptionist unprofessional present think treat badlyi nothing bad tell donot get teach girl receptionist talk people   \n",
       "9   uma excellent earth friendly need patience explain issue treatment option clearly half solve positive attitude approach god bless                                  \n",
       "11  nice way explain help understand issue also wait period less recomend                                                                                              \n",
       "\n",
       "       recom sentiment_vader  cluster 0  cluster 1  cluster 2  cluster 3  \\\n",
       "0   Positive  Positive        0.998787   1.067678   1.054829   1.052639    \n",
       "3   Positive  Positive        0.993854   1.064096   1.052984   1.047494    \n",
       "6   Negative  Negative        0.981766   1.067432   1.011218   1.052485    \n",
       "9   Positive  Positive        0.947786   1.024944   1.019345   0.962346    \n",
       "11  Positive  Positive        0.951022   1.031587   0.962197   1.010604    \n",
       "\n",
       "    cluster 4               topics  \n",
       "0   1.032337   nature of treatment  \n",
       "3   1.049153   nature of treatment  \n",
       "6   0.999782   nature of treatment  \n",
       "9   1.020828   nature of treatment  \n",
       "11  1.018872   nature of treatment  "
      ]
     },
     "execution_count": 66,
     "metadata": {},
     "output_type": "execute_result"
    }
   ],
   "source": [
    "df[df.topics=='nature of treatment'].head(5)"
   ]
  },
  {
   "cell_type": "code",
   "execution_count": 67,
   "metadata": {
    "ExecuteTime": {
     "end_time": "2020-03-13T08:08:09.735540Z",
     "start_time": "2020-03-13T08:08:09.719561Z"
    }
   },
   "outputs": [
    {
     "data": {
      "text/html": [
       "<div>\n",
       "<style scoped>\n",
       "    .dataframe tbody tr th:only-of-type {\n",
       "        vertical-align: middle;\n",
       "    }\n",
       "\n",
       "    .dataframe tbody tr th {\n",
       "        vertical-align: top;\n",
       "    }\n",
       "\n",
       "    .dataframe thead th {\n",
       "        text-align: right;\n",
       "    }\n",
       "</style>\n",
       "<table border=\"1\" class=\"dataframe\">\n",
       "  <thead>\n",
       "    <tr style=\"text-align: right;\">\n",
       "      <th></th>\n",
       "      <th>sqdist</th>\n",
       "      <th>cluster</th>\n",
       "      <th>reviews</th>\n",
       "      <th>recom</th>\n",
       "      <th>sentiment_vader</th>\n",
       "      <th>cluster 0</th>\n",
       "      <th>cluster 1</th>\n",
       "      <th>cluster 2</th>\n",
       "      <th>cluster 3</th>\n",
       "      <th>cluster 4</th>\n",
       "      <th>topics</th>\n",
       "    </tr>\n",
       "  </thead>\n",
       "  <tbody>\n",
       "    <tr>\n",
       "      <th>15</th>\n",
       "      <td>4.91</td>\n",
       "      <td>3</td>\n",
       "      <td>visit uma chicken pox get well treatment advice overall</td>\n",
       "      <td>Positive</td>\n",
       "      <td>Positive</td>\n",
       "      <td>0.971784</td>\n",
       "      <td>1.024644</td>\n",
       "      <td>1.015631</td>\n",
       "      <td>0.881772</td>\n",
       "      <td>1.017153</td>\n",
       "      <td>post-treatment</td>\n",
       "    </tr>\n",
       "    <tr>\n",
       "      <th>26</th>\n",
       "      <td>5.06</td>\n",
       "      <td>3</td>\n",
       "      <td>unique bangalore not support use antibiotic tablet less medtion health moto 'm full go treatment friendly polite</td>\n",
       "      <td>Positive</td>\n",
       "      <td>Positive</td>\n",
       "      <td>0.977815</td>\n",
       "      <td>1.047976</td>\n",
       "      <td>1.044015</td>\n",
       "      <td>0.960495</td>\n",
       "      <td>1.030296</td>\n",
       "      <td>post-treatment</td>\n",
       "    </tr>\n",
       "    <tr>\n",
       "      <th>30</th>\n",
       "      <td>4.96</td>\n",
       "      <td>3</td>\n",
       "      <td>uma friendly quickly get root cause explain line treatment quite satisfy visit</td>\n",
       "      <td>Positive</td>\n",
       "      <td>Positive</td>\n",
       "      <td>0.964464</td>\n",
       "      <td>1.025350</td>\n",
       "      <td>1.018297</td>\n",
       "      <td>0.931411</td>\n",
       "      <td>1.021513</td>\n",
       "      <td>post-treatment</td>\n",
       "    </tr>\n",
       "    <tr>\n",
       "      <th>38</th>\n",
       "      <td>5.00</td>\n",
       "      <td>3</td>\n",
       "      <td>explain clear treatment brilliant kid happy</td>\n",
       "      <td>Positive</td>\n",
       "      <td>Positive</td>\n",
       "      <td>0.980148</td>\n",
       "      <td>1.042443</td>\n",
       "      <td>1.033641</td>\n",
       "      <td>0.905294</td>\n",
       "      <td>1.038178</td>\n",
       "      <td>post-treatment</td>\n",
       "    </tr>\n",
       "    <tr>\n",
       "      <th>39</th>\n",
       "      <td>5.01</td>\n",
       "      <td>3</td>\n",
       "      <td>calm start treatment wait see results overall</td>\n",
       "      <td>Positive</td>\n",
       "      <td>Positive</td>\n",
       "      <td>1.002296</td>\n",
       "      <td>1.048943</td>\n",
       "      <td>0.983919</td>\n",
       "      <td>0.929352</td>\n",
       "      <td>1.042198</td>\n",
       "      <td>post-treatment</td>\n",
       "    </tr>\n",
       "  </tbody>\n",
       "</table>\n",
       "</div>"
      ],
      "text/plain": [
       "    sqdist  cluster  \\\n",
       "15  4.91    3         \n",
       "26  5.06    3         \n",
       "30  4.96    3         \n",
       "38  5.00    3         \n",
       "39  5.01    3         \n",
       "\n",
       "                                                                                                             reviews  \\\n",
       "15  visit uma chicken pox get well treatment advice overall                                                            \n",
       "26  unique bangalore not support use antibiotic tablet less medtion health moto 'm full go treatment friendly polite   \n",
       "30  uma friendly quickly get root cause explain line treatment quite satisfy visit                                     \n",
       "38  explain clear treatment brilliant kid happy                                                                        \n",
       "39  calm start treatment wait see results overall                                                                      \n",
       "\n",
       "       recom sentiment_vader  cluster 0  cluster 1  cluster 2  cluster 3  \\\n",
       "15  Positive  Positive        0.971784   1.024644   1.015631   0.881772    \n",
       "26  Positive  Positive        0.977815   1.047976   1.044015   0.960495    \n",
       "30  Positive  Positive        0.964464   1.025350   1.018297   0.931411    \n",
       "38  Positive  Positive        0.980148   1.042443   1.033641   0.905294    \n",
       "39  Positive  Positive        1.002296   1.048943   0.983919   0.929352    \n",
       "\n",
       "    cluster 4          topics  \n",
       "15  1.017153   post-treatment  \n",
       "26  1.030296   post-treatment  \n",
       "30  1.021513   post-treatment  \n",
       "38  1.038178   post-treatment  \n",
       "39  1.042198   post-treatment  "
      ]
     },
     "execution_count": 67,
     "metadata": {},
     "output_type": "execute_result"
    }
   ],
   "source": [
    "df[df.topics=='post-treatment'].head(5)"
   ]
  },
  {
   "cell_type": "code",
   "execution_count": 68,
   "metadata": {
    "ExecuteTime": {
     "end_time": "2020-03-13T08:08:18.607727Z",
     "start_time": "2020-03-13T08:08:18.591723Z"
    },
    "scrolled": true
   },
   "outputs": [
    {
     "data": {
      "text/html": [
       "<div>\n",
       "<style scoped>\n",
       "    .dataframe tbody tr th:only-of-type {\n",
       "        vertical-align: middle;\n",
       "    }\n",
       "\n",
       "    .dataframe tbody tr th {\n",
       "        vertical-align: top;\n",
       "    }\n",
       "\n",
       "    .dataframe thead th {\n",
       "        text-align: right;\n",
       "    }\n",
       "</style>\n",
       "<table border=\"1\" class=\"dataframe\">\n",
       "  <thead>\n",
       "    <tr style=\"text-align: right;\">\n",
       "      <th></th>\n",
       "      <th>sqdist</th>\n",
       "      <th>cluster</th>\n",
       "      <th>reviews</th>\n",
       "      <th>recom</th>\n",
       "      <th>sentiment_vader</th>\n",
       "      <th>cluster 0</th>\n",
       "      <th>cluster 1</th>\n",
       "      <th>cluster 2</th>\n",
       "      <th>cluster 3</th>\n",
       "      <th>cluster 4</th>\n",
       "      <th>topics</th>\n",
       "    </tr>\n",
       "  </thead>\n",
       "  <tbody>\n",
       "    <tr>\n",
       "      <th>1</th>\n",
       "      <td>4.93</td>\n",
       "      <td>4</td>\n",
       "      <td>explain issue body tell solve rather prescribe medicine</td>\n",
       "      <td>Positive</td>\n",
       "      <td>Positive</td>\n",
       "      <td>0.974342</td>\n",
       "      <td>1.021261</td>\n",
       "      <td>1.020406</td>\n",
       "      <td>1.030412</td>\n",
       "      <td>0.879643</td>\n",
       "      <td>medicine</td>\n",
       "    </tr>\n",
       "    <tr>\n",
       "      <th>7</th>\n",
       "      <td>4.91</td>\n",
       "      <td>4</td>\n",
       "      <td>visit uma twice occasion friendly clearly explain donot unnecessary medicine test</td>\n",
       "      <td>Positive</td>\n",
       "      <td>Positive</td>\n",
       "      <td>0.973344</td>\n",
       "      <td>1.026927</td>\n",
       "      <td>1.015284</td>\n",
       "      <td>1.021007</td>\n",
       "      <td>0.872974</td>\n",
       "      <td>medicine</td>\n",
       "    </tr>\n",
       "    <tr>\n",
       "      <th>8</th>\n",
       "      <td>4.72</td>\n",
       "      <td>4</td>\n",
       "      <td>first time visit adept arrive right diagnosis excellent explain u take pain explain medicine give medicine compare something else expertise great attitude favorite physician small clinic nothing fancy reasonably well organize</td>\n",
       "      <td>Positive</td>\n",
       "      <td>Positive</td>\n",
       "      <td>0.931497</td>\n",
       "      <td>0.994590</td>\n",
       "      <td>0.922094</td>\n",
       "      <td>0.977595</td>\n",
       "      <td>0.895314</td>\n",
       "      <td>medicine</td>\n",
       "    </tr>\n",
       "    <tr>\n",
       "      <th>12</th>\n",
       "      <td>4.89</td>\n",
       "      <td>4</td>\n",
       "      <td>friendly understand every prescribe right medicine care</td>\n",
       "      <td>Positive</td>\n",
       "      <td>Positive</td>\n",
       "      <td>0.957040</td>\n",
       "      <td>1.013779</td>\n",
       "      <td>1.014165</td>\n",
       "      <td>1.009386</td>\n",
       "      <td>0.893353</td>\n",
       "      <td>medicine</td>\n",
       "    </tr>\n",
       "    <tr>\n",
       "      <th>19</th>\n",
       "      <td>5.06</td>\n",
       "      <td>4</td>\n",
       "      <td>simply fabulous know well type medicine will suit also make understand well disease</td>\n",
       "      <td>Positive</td>\n",
       "      <td>Positive</td>\n",
       "      <td>0.976415</td>\n",
       "      <td>1.048947</td>\n",
       "      <td>1.024751</td>\n",
       "      <td>1.031430</td>\n",
       "      <td>0.975624</td>\n",
       "      <td>medicine</td>\n",
       "    </tr>\n",
       "  </tbody>\n",
       "</table>\n",
       "</div>"
      ],
      "text/plain": [
       "    sqdist  cluster  \\\n",
       "1   4.93    4         \n",
       "7   4.91    4         \n",
       "8   4.72    4         \n",
       "12  4.89    4         \n",
       "19  5.06    4         \n",
       "\n",
       "                                                                                                                                                                                                                              reviews  \\\n",
       "1   explain issue body tell solve rather prescribe medicine                                                                                                                                                                             \n",
       "7   visit uma twice occasion friendly clearly explain donot unnecessary medicine test                                                                                                                                                   \n",
       "8   first time visit adept arrive right diagnosis excellent explain u take pain explain medicine give medicine compare something else expertise great attitude favorite physician small clinic nothing fancy reasonably well organize   \n",
       "12  friendly understand every prescribe right medicine care                                                                                                                                                                             \n",
       "19  simply fabulous know well type medicine will suit also make understand well disease                                                                                                                                                 \n",
       "\n",
       "       recom sentiment_vader  cluster 0  cluster 1  cluster 2  cluster 3  \\\n",
       "1   Positive  Positive        0.974342   1.021261   1.020406   1.030412    \n",
       "7   Positive  Positive        0.973344   1.026927   1.015284   1.021007    \n",
       "8   Positive  Positive        0.931497   0.994590   0.922094   0.977595    \n",
       "12  Positive  Positive        0.957040   1.013779   1.014165   1.009386    \n",
       "19  Positive  Positive        0.976415   1.048947   1.024751   1.031430    \n",
       "\n",
       "    cluster 4    topics  \n",
       "1   0.879643   medicine  \n",
       "7   0.872974   medicine  \n",
       "8   0.895314   medicine  \n",
       "12  0.893353   medicine  \n",
       "19  0.975624   medicine  "
      ]
     },
     "execution_count": 68,
     "metadata": {},
     "output_type": "execute_result"
    }
   ],
   "source": [
    "df[df.topics=='medicine'].head(5)"
   ]
  },
  {
   "cell_type": "code",
   "execution_count": 108,
   "metadata": {
    "ExecuteTime": {
     "end_time": "2020-03-13T15:58:57.419193Z",
     "start_time": "2020-03-13T15:58:57.387240Z"
    }
   },
   "outputs": [],
   "source": [
    "doctor_interaction=df[df['topics']=='doctor-interaction']\n",
    "medicine=df[df['topics']=='medicine']\n",
    "nature=df[df['topics']=='nature of treatment']\n",
    "post_treatment=df[df['topics']=='post-treatment']\n",
    "pre_booking=df[df['topics']=='pre-booking']"
   ]
  },
  {
   "cell_type": "code",
   "execution_count": 96,
   "metadata": {
    "ExecuteTime": {
     "end_time": "2020-03-13T08:58:58.908689Z",
     "start_time": "2020-03-13T08:58:58.899710Z"
    }
   },
   "outputs": [
    {
     "data": {
      "text/plain": [
       "0.11275680840898232"
      ]
     },
     "execution_count": 96,
     "metadata": {},
     "output_type": "execute_result"
    }
   ],
   "source": [
    "len(doctor_interaction)/14651"
   ]
  },
  {
   "cell_type": "code",
   "execution_count": 97,
   "metadata": {
    "ExecuteTime": {
     "end_time": "2020-03-13T08:59:06.694329Z",
     "start_time": "2020-03-13T08:59:06.686348Z"
    }
   },
   "outputs": [
    {
     "data": {
      "text/plain": [
       "0.16067162651013583"
      ]
     },
     "execution_count": 97,
     "metadata": {},
     "output_type": "execute_result"
    }
   ],
   "source": [
    "len(medicine)/14651"
   ]
  },
  {
   "cell_type": "code",
   "execution_count": 98,
   "metadata": {
    "ExecuteTime": {
     "end_time": "2020-03-13T08:59:16.291697Z",
     "start_time": "2020-03-13T08:59:16.285710Z"
    }
   },
   "outputs": [
    {
     "data": {
      "text/plain": [
       "0.43505562760221145"
      ]
     },
     "execution_count": 98,
     "metadata": {},
     "output_type": "execute_result"
    }
   ],
   "source": [
    "len(nature)/14651"
   ]
  },
  {
   "cell_type": "code",
   "execution_count": 99,
   "metadata": {
    "ExecuteTime": {
     "end_time": "2020-03-13T08:59:25.961268Z",
     "start_time": "2020-03-13T08:59:25.956283Z"
    }
   },
   "outputs": [
    {
     "data": {
      "text/plain": [
       "0.16135417377653402"
      ]
     },
     "execution_count": 99,
     "metadata": {},
     "output_type": "execute_result"
    }
   ],
   "source": [
    "len(post_treatment)/14651"
   ]
  },
  {
   "cell_type": "code",
   "execution_count": 100,
   "metadata": {
    "ExecuteTime": {
     "end_time": "2020-03-13T08:59:36.794919Z",
     "start_time": "2020-03-13T08:59:36.785944Z"
    }
   },
   "outputs": [
    {
     "data": {
      "text/plain": [
       "0.13016176370213636"
      ]
     },
     "execution_count": 100,
     "metadata": {},
     "output_type": "execute_result"
    }
   ],
   "source": [
    "len(pre_booking)/14651"
   ]
  },
  {
   "cell_type": "code",
   "execution_count": 95,
   "metadata": {
    "ExecuteTime": {
     "end_time": "2020-03-13T08:53:01.917277Z",
     "start_time": "2020-03-13T08:53:01.908300Z"
    }
   },
   "outputs": [
    {
     "data": {
      "text/plain": [
       "14651"
      ]
     },
     "execution_count": 95,
     "metadata": {},
     "output_type": "execute_result"
    }
   ],
   "source": [
    "len(df)"
   ]
  },
  {
   "cell_type": "code",
   "execution_count": null,
   "metadata": {},
   "outputs": [],
   "source": []
  },
  {
   "cell_type": "code",
   "execution_count": null,
   "metadata": {},
   "outputs": [],
   "source": []
  },
  {
   "cell_type": "code",
   "execution_count": 110,
   "metadata": {
    "ExecuteTime": {
     "end_time": "2020-03-13T16:00:28.934879Z",
     "start_time": "2020-03-13T16:00:28.846995Z"
    }
   },
   "outputs": [
    {
     "data": {
      "text/html": [
       "<div>\n",
       "<style scoped>\n",
       "    .dataframe tbody tr th:only-of-type {\n",
       "        vertical-align: middle;\n",
       "    }\n",
       "\n",
       "    .dataframe tbody tr th {\n",
       "        vertical-align: top;\n",
       "    }\n",
       "\n",
       "    .dataframe thead th {\n",
       "        text-align: right;\n",
       "    }\n",
       "</style>\n",
       "<table border=\"1\" class=\"dataframe\">\n",
       "  <thead>\n",
       "    <tr style=\"text-align: right;\">\n",
       "      <th></th>\n",
       "      <th>recom</th>\n",
       "      <th>Negative</th>\n",
       "      <th>Positive</th>\n",
       "    </tr>\n",
       "    <tr>\n",
       "      <th>topics</th>\n",
       "      <th>sentiment_vader</th>\n",
       "      <th></th>\n",
       "      <th></th>\n",
       "    </tr>\n",
       "  </thead>\n",
       "  <tbody>\n",
       "    <tr>\n",
       "      <th rowspan=\"3\" valign=\"top\">doctor-interaction</th>\n",
       "      <th>Negative</th>\n",
       "      <td>4.721550</td>\n",
       "      <td>8.777240</td>\n",
       "    </tr>\n",
       "    <tr>\n",
       "      <th>Neutral</th>\n",
       "      <td>0.484262</td>\n",
       "      <td>4.479419</td>\n",
       "    </tr>\n",
       "    <tr>\n",
       "      <th>Positive</th>\n",
       "      <td>1.513317</td>\n",
       "      <td>79.963680</td>\n",
       "    </tr>\n",
       "  </tbody>\n",
       "</table>\n",
       "</div>"
      ],
      "text/plain": [
       "recom                               Negative   Positive\n",
       "topics             sentiment_vader                     \n",
       "doctor-interaction Negative         4.721550  8.777240 \n",
       "                   Neutral          0.484262  4.479419 \n",
       "                   Positive         1.513317  79.963680"
      ]
     },
     "execution_count": 110,
     "metadata": {},
     "output_type": "execute_result"
    }
   ],
   "source": [
    "doctor_interaction.groupby(['topics','sentiment_vader'])['recom'].value_counts().transform(lambda x: x/len(doctor_interaction)*100).unstack()"
   ]
  },
  {
   "cell_type": "code",
   "execution_count": 84,
   "metadata": {
    "ExecuteTime": {
     "end_time": "2020-03-13T08:42:51.053481Z",
     "start_time": "2020-03-13T08:42:51.029508Z"
    }
   },
   "outputs": [
    {
     "data": {
      "text/html": [
       "<div>\n",
       "<style scoped>\n",
       "    .dataframe tbody tr th:only-of-type {\n",
       "        vertical-align: middle;\n",
       "    }\n",
       "\n",
       "    .dataframe tbody tr th {\n",
       "        vertical-align: top;\n",
       "    }\n",
       "\n",
       "    .dataframe thead th {\n",
       "        text-align: right;\n",
       "    }\n",
       "</style>\n",
       "<table border=\"1\" class=\"dataframe\">\n",
       "  <thead>\n",
       "    <tr style=\"text-align: right;\">\n",
       "      <th></th>\n",
       "      <th>recom</th>\n",
       "      <th>Negative</th>\n",
       "      <th>Positive</th>\n",
       "    </tr>\n",
       "    <tr>\n",
       "      <th>topics</th>\n",
       "      <th>sentiment_vader</th>\n",
       "      <th></th>\n",
       "      <th></th>\n",
       "    </tr>\n",
       "  </thead>\n",
       "  <tbody>\n",
       "    <tr>\n",
       "      <th rowspan=\"3\" valign=\"top\">medicine</th>\n",
       "      <th>Negative</th>\n",
       "      <td>5.480034</td>\n",
       "      <td>8.198811</td>\n",
       "    </tr>\n",
       "    <tr>\n",
       "      <th>Neutral</th>\n",
       "      <td>0.679694</td>\n",
       "      <td>4.333050</td>\n",
       "    </tr>\n",
       "    <tr>\n",
       "      <th>Positive</th>\n",
       "      <td>2.548853</td>\n",
       "      <td>78.632116</td>\n",
       "    </tr>\n",
       "  </tbody>\n",
       "</table>\n",
       "</div>"
      ],
      "text/plain": [
       "recom                     Negative   Positive\n",
       "topics   sentiment_vader                     \n",
       "medicine Negative         5.480034  8.198811 \n",
       "         Neutral          0.679694  4.333050 \n",
       "         Positive         2.548853  78.632116"
      ]
     },
     "execution_count": 84,
     "metadata": {},
     "output_type": "execute_result"
    }
   ],
   "source": [
    "medicine.groupby(['topics','sentiment_vader'])['recom'].value_counts().transform(lambda x: x/len(medicine)*100).unstack()"
   ]
  },
  {
   "cell_type": "code",
   "execution_count": 85,
   "metadata": {
    "ExecuteTime": {
     "end_time": "2020-03-13T08:42:58.574791Z",
     "start_time": "2020-03-13T08:42:58.558782Z"
    }
   },
   "outputs": [
    {
     "data": {
      "text/html": [
       "<div>\n",
       "<style scoped>\n",
       "    .dataframe tbody tr th:only-of-type {\n",
       "        vertical-align: middle;\n",
       "    }\n",
       "\n",
       "    .dataframe tbody tr th {\n",
       "        vertical-align: top;\n",
       "    }\n",
       "\n",
       "    .dataframe thead th {\n",
       "        text-align: right;\n",
       "    }\n",
       "</style>\n",
       "<table border=\"1\" class=\"dataframe\">\n",
       "  <thead>\n",
       "    <tr style=\"text-align: right;\">\n",
       "      <th></th>\n",
       "      <th>recom</th>\n",
       "      <th>Negative</th>\n",
       "      <th>Positive</th>\n",
       "    </tr>\n",
       "    <tr>\n",
       "      <th>topics</th>\n",
       "      <th>sentiment_vader</th>\n",
       "      <th></th>\n",
       "      <th></th>\n",
       "    </tr>\n",
       "  </thead>\n",
       "  <tbody>\n",
       "    <tr>\n",
       "      <th rowspan=\"3\" valign=\"top\">nature of treatment</th>\n",
       "      <th>Negative</th>\n",
       "      <td>5.145905</td>\n",
       "      <td>7.734547</td>\n",
       "    </tr>\n",
       "    <tr>\n",
       "      <th>Neutral</th>\n",
       "      <td>0.721682</td>\n",
       "      <td>3.969250</td>\n",
       "    </tr>\n",
       "    <tr>\n",
       "      <th>Positive</th>\n",
       "      <td>2.039536</td>\n",
       "      <td>80.279259</td>\n",
       "    </tr>\n",
       "  </tbody>\n",
       "</table>\n",
       "</div>"
      ],
      "text/plain": [
       "recom                                Negative   Positive\n",
       "topics              sentiment_vader                     \n",
       "nature of treatment Negative         5.145905  7.734547 \n",
       "                    Neutral          0.721682  3.969250 \n",
       "                    Positive         2.039536  80.279259"
      ]
     },
     "execution_count": 85,
     "metadata": {},
     "output_type": "execute_result"
    }
   ],
   "source": [
    "nature.groupby(['topics','sentiment_vader'])['recom'].value_counts().transform(lambda x: x/len(nature)*100).unstack()"
   ]
  },
  {
   "cell_type": "code",
   "execution_count": 86,
   "metadata": {
    "ExecuteTime": {
     "end_time": "2020-03-13T08:43:07.359634Z",
     "start_time": "2020-03-13T08:43:07.343653Z"
    }
   },
   "outputs": [
    {
     "data": {
      "text/html": [
       "<div>\n",
       "<style scoped>\n",
       "    .dataframe tbody tr th:only-of-type {\n",
       "        vertical-align: middle;\n",
       "    }\n",
       "\n",
       "    .dataframe tbody tr th {\n",
       "        vertical-align: top;\n",
       "    }\n",
       "\n",
       "    .dataframe thead th {\n",
       "        text-align: right;\n",
       "    }\n",
       "</style>\n",
       "<table border=\"1\" class=\"dataframe\">\n",
       "  <thead>\n",
       "    <tr style=\"text-align: right;\">\n",
       "      <th></th>\n",
       "      <th>recom</th>\n",
       "      <th>Negative</th>\n",
       "      <th>Positive</th>\n",
       "    </tr>\n",
       "    <tr>\n",
       "      <th>topics</th>\n",
       "      <th>sentiment_vader</th>\n",
       "      <th></th>\n",
       "      <th></th>\n",
       "    </tr>\n",
       "  </thead>\n",
       "  <tbody>\n",
       "    <tr>\n",
       "      <th rowspan=\"3\" valign=\"top\">post-treatment</th>\n",
       "      <th>Negative</th>\n",
       "      <td>5.033841</td>\n",
       "      <td>6.683587</td>\n",
       "    </tr>\n",
       "    <tr>\n",
       "      <th>Neutral</th>\n",
       "      <td>0.719120</td>\n",
       "      <td>3.807107</td>\n",
       "    </tr>\n",
       "    <tr>\n",
       "      <th>Positive</th>\n",
       "      <td>2.199662</td>\n",
       "      <td>81.472081</td>\n",
       "    </tr>\n",
       "  </tbody>\n",
       "</table>\n",
       "</div>"
      ],
      "text/plain": [
       "recom                           Negative   Positive\n",
       "topics         sentiment_vader                     \n",
       "post-treatment Negative         5.033841  6.683587 \n",
       "               Neutral          0.719120  3.807107 \n",
       "               Positive         2.199662  81.472081"
      ]
     },
     "execution_count": 86,
     "metadata": {},
     "output_type": "execute_result"
    }
   ],
   "source": [
    "post_treatment.groupby(['topics','sentiment_vader'])['recom'].value_counts().transform(lambda x: x/len(post_treatment)*100).unstack()"
   ]
  },
  {
   "cell_type": "code",
   "execution_count": 89,
   "metadata": {
    "ExecuteTime": {
     "end_time": "2020-03-13T08:47:15.237343Z",
     "start_time": "2020-03-13T08:47:15.205383Z"
    }
   },
   "outputs": [
    {
     "data": {
      "text/html": [
       "<div>\n",
       "<style scoped>\n",
       "    .dataframe tbody tr th:only-of-type {\n",
       "        vertical-align: middle;\n",
       "    }\n",
       "\n",
       "    .dataframe tbody tr th {\n",
       "        vertical-align: top;\n",
       "    }\n",
       "\n",
       "    .dataframe thead th {\n",
       "        text-align: right;\n",
       "    }\n",
       "</style>\n",
       "<table border=\"1\" class=\"dataframe\">\n",
       "  <thead>\n",
       "    <tr style=\"text-align: right;\">\n",
       "      <th></th>\n",
       "      <th>recom</th>\n",
       "      <th>Negative</th>\n",
       "      <th>Positive</th>\n",
       "    </tr>\n",
       "    <tr>\n",
       "      <th>topics</th>\n",
       "      <th>sentiment_vader</th>\n",
       "      <th></th>\n",
       "      <th></th>\n",
       "    </tr>\n",
       "  </thead>\n",
       "  <tbody>\n",
       "    <tr>\n",
       "      <th rowspan=\"3\" valign=\"top\">pre-booking</th>\n",
       "      <th>Negative</th>\n",
       "      <td>5.296277</td>\n",
       "      <td>8.127950</td>\n",
       "    </tr>\n",
       "    <tr>\n",
       "      <th>Neutral</th>\n",
       "      <td>0.891453</td>\n",
       "      <td>4.352386</td>\n",
       "    </tr>\n",
       "    <tr>\n",
       "      <th>Positive</th>\n",
       "      <td>2.412166</td>\n",
       "      <td>78.867331</td>\n",
       "    </tr>\n",
       "  </tbody>\n",
       "</table>\n",
       "</div>"
      ],
      "text/plain": [
       "recom                        Negative   Positive\n",
       "topics      sentiment_vader                     \n",
       "pre-booking Negative         5.296277  8.127950 \n",
       "            Neutral          0.891453  4.352386 \n",
       "            Positive         2.412166  78.867331"
      ]
     },
     "execution_count": 89,
     "metadata": {},
     "output_type": "execute_result"
    }
   ],
   "source": [
    "pre_booking.groupby(['topics','sentiment_vader'])['recom'].value_counts().transform(lambda x: x/len(pre_booking)*100).unstack()"
   ]
  },
  {
   "cell_type": "code",
   "execution_count": null,
   "metadata": {},
   "outputs": [],
   "source": []
  },
  {
   "cell_type": "code",
   "execution_count": 111,
   "metadata": {
    "ExecuteTime": {
     "end_time": "2020-03-13T16:19:48.565054Z",
     "start_time": "2020-03-13T16:19:48.527275Z"
    }
   },
   "outputs": [
    {
     "data": {
      "text/html": [
       "<div>\n",
       "<style scoped>\n",
       "    .dataframe tbody tr th:only-of-type {\n",
       "        vertical-align: middle;\n",
       "    }\n",
       "\n",
       "    .dataframe tbody tr th {\n",
       "        vertical-align: top;\n",
       "    }\n",
       "\n",
       "    .dataframe thead th {\n",
       "        text-align: right;\n",
       "    }\n",
       "</style>\n",
       "<table border=\"1\" class=\"dataframe\">\n",
       "  <thead>\n",
       "    <tr style=\"text-align: right;\">\n",
       "      <th></th>\n",
       "      <th>recom</th>\n",
       "      <th>Negative</th>\n",
       "      <th>Positive</th>\n",
       "    </tr>\n",
       "    <tr>\n",
       "      <th>topics</th>\n",
       "      <th>sentiment_vader</th>\n",
       "      <th></th>\n",
       "      <th></th>\n",
       "    </tr>\n",
       "  </thead>\n",
       "  <tbody>\n",
       "    <tr>\n",
       "      <th rowspan=\"3\" valign=\"top\">doctor-interaction</th>\n",
       "      <th>Negative</th>\n",
       "      <td>0.532387</td>\n",
       "      <td>0.989694</td>\n",
       "    </tr>\n",
       "    <tr>\n",
       "      <th>Neutral</th>\n",
       "      <td>0.054604</td>\n",
       "      <td>0.505085</td>\n",
       "    </tr>\n",
       "    <tr>\n",
       "      <th>Positive</th>\n",
       "      <td>0.170637</td>\n",
       "      <td>9.016449</td>\n",
       "    </tr>\n",
       "    <tr>\n",
       "      <th rowspan=\"3\" valign=\"top\">medicine</th>\n",
       "      <th>Negative</th>\n",
       "      <td>0.880486</td>\n",
       "      <td>1.317316</td>\n",
       "    </tr>\n",
       "    <tr>\n",
       "      <th>Neutral</th>\n",
       "      <td>0.109208</td>\n",
       "      <td>0.696198</td>\n",
       "    </tr>\n",
       "    <tr>\n",
       "      <th>Positive</th>\n",
       "      <td>0.409528</td>\n",
       "      <td>12.633950</td>\n",
       "    </tr>\n",
       "    <tr>\n",
       "      <th rowspan=\"3\" valign=\"top\">nature of treatment</th>\n",
       "      <th>Negative</th>\n",
       "      <td>2.238755</td>\n",
       "      <td>3.364958</td>\n",
       "    </tr>\n",
       "    <tr>\n",
       "      <th>Neutral</th>\n",
       "      <td>0.313972</td>\n",
       "      <td>1.726845</td>\n",
       "    </tr>\n",
       "    <tr>\n",
       "      <th>Positive</th>\n",
       "      <td>0.887311</td>\n",
       "      <td>34.925944</td>\n",
       "    </tr>\n",
       "    <tr>\n",
       "      <th rowspan=\"3\" valign=\"top\">post-treatment</th>\n",
       "      <th>Negative</th>\n",
       "      <td>0.812231</td>\n",
       "      <td>1.078425</td>\n",
       "    </tr>\n",
       "    <tr>\n",
       "      <th>Neutral</th>\n",
       "      <td>0.116033</td>\n",
       "      <td>0.614293</td>\n",
       "    </tr>\n",
       "    <tr>\n",
       "      <th>Positive</th>\n",
       "      <td>0.354925</td>\n",
       "      <td>13.145860</td>\n",
       "    </tr>\n",
       "    <tr>\n",
       "      <th rowspan=\"3\" valign=\"top\">pre-booking</th>\n",
       "      <th>Negative</th>\n",
       "      <td>0.689373</td>\n",
       "      <td>1.057948</td>\n",
       "    </tr>\n",
       "    <tr>\n",
       "      <th>Neutral</th>\n",
       "      <td>0.116033</td>\n",
       "      <td>0.566514</td>\n",
       "    </tr>\n",
       "    <tr>\n",
       "      <th>Positive</th>\n",
       "      <td>0.313972</td>\n",
       "      <td>10.265511</td>\n",
       "    </tr>\n",
       "  </tbody>\n",
       "</table>\n",
       "</div>"
      ],
      "text/plain": [
       "recom                                Negative   Positive\n",
       "topics              sentiment_vader                     \n",
       "doctor-interaction  Negative         0.532387  0.989694 \n",
       "                    Neutral          0.054604  0.505085 \n",
       "                    Positive         0.170637  9.016449 \n",
       "medicine            Negative         0.880486  1.317316 \n",
       "                    Neutral          0.109208  0.696198 \n",
       "                    Positive         0.409528  12.633950\n",
       "nature of treatment Negative         2.238755  3.364958 \n",
       "                    Neutral          0.313972  1.726845 \n",
       "                    Positive         0.887311  34.925944\n",
       "post-treatment      Negative         0.812231  1.078425 \n",
       "                    Neutral          0.116033  0.614293 \n",
       "                    Positive         0.354925  13.145860\n",
       "pre-booking         Negative         0.689373  1.057948 \n",
       "                    Neutral          0.116033  0.566514 \n",
       "                    Positive         0.313972  10.265511"
      ]
     },
     "execution_count": 111,
     "metadata": {},
     "output_type": "execute_result"
    }
   ],
   "source": [
    "df.groupby(['topics','sentiment_vader'])['recom'].value_counts().transform(lambda x: x/len(df)*100).unstack()"
   ]
  },
  {
   "cell_type": "code",
   "execution_count": null,
   "metadata": {
    "ExecuteTime": {
     "end_time": "2020-03-07T04:04:45.813284Z",
     "start_time": "2020-03-07T04:04:45.601513Z"
    }
   },
   "outputs": [],
   "source": [
    "\n"
   ]
  },
  {
   "cell_type": "code",
   "execution_count": 70,
   "metadata": {
    "ExecuteTime": {
     "end_time": "2020-03-13T08:08:35.229522Z",
     "start_time": "2020-03-13T08:08:35.021798Z"
    },
    "scrolled": false
   },
   "outputs": [
    {
     "data": {
      "text/plain": [
       "<matplotlib.axes._subplots.AxesSubplot at 0x1e96e9eb4c8>"
      ]
     },
     "execution_count": 70,
     "metadata": {},
     "output_type": "execute_result"
    },
    {
     "data": {
      "image/png": "[encoded data removed]",
      "text/plain": [
       "<Figure size 864x432 with 1 Axes>"
      ]
     },
     "metadata": {
      "needs_background": "light"
     },
     "output_type": "display_data"
    }
   ],
   "source": [
    "dxp.aggplot(agg=\"topics\", data=df)"
   ]
  },
  {
   "cell_type": "code",
   "execution_count": 71,
   "metadata": {
    "ExecuteTime": {
     "end_time": "2020-03-13T08:08:43.986144Z",
     "start_time": "2020-03-13T08:08:43.722191Z"
    },
    "scrolled": false
   },
   "outputs": [
    {
     "data": {
      "text/plain": [
       "<matplotlib.axes._subplots.AxesSubplot at 0x1e96a94e4c8>"
      ]
     },
     "execution_count": 71,
     "metadata": {},
     "output_type": "execute_result"
    },
    {
     "data": {
      "image/png": "[encoded data removed]",
      "text/plain": [
       "<Figure size 864x432 with 1 Axes>"
      ]
     },
     "metadata": {
      "needs_background": "light"
     },
     "output_type": "display_data"
    }
   ],
   "source": [
    "dxp.aggplot(agg=\"topics\", data=df,hue='recom')"
   ]
  },
  {
   "cell_type": "code",
   "execution_count": 72,
   "metadata": {
    "ExecuteTime": {
     "end_time": "2020-03-13T08:08:52.774834Z",
     "start_time": "2020-03-13T08:08:52.227400Z"
    },
    "scrolled": false
   },
   "outputs": [
    {
     "data": {
      "text/plain": [
       "<matplotlib.axes._subplots.AxesSubplot at 0x1e9698049c8>"
      ]
     },
     "execution_count": 72,
     "metadata": {},
     "output_type": "execute_result"
    },
    {
     "data": {
      "image/png": "[encoded data removed]",
      "text/plain": [
       "<Figure size 864x432 with 1 Axes>"
      ]
     },
     "metadata": {
      "needs_background": "light"
     },
     "output_type": "display_data"
    }
   ],
   "source": [
    "dxp.aggplot(agg=\"topics\", data=df,hue='sentiment_vader')"
   ]
  },
  {
   "cell_type": "code",
   "execution_count": 73,
   "metadata": {
    "ExecuteTime": {
     "end_time": "2020-03-13T08:09:00.448693Z",
     "start_time": "2020-03-13T08:09:00.432713Z"
    }
   },
   "outputs": [],
   "source": [
    "positive_not_recommended_reviews=df[(df['sentiment_vader']=='Positive')&(df['recom']=='Negative')]"
   ]
  },
  {
   "cell_type": "code",
   "execution_count": 74,
   "metadata": {
    "ExecuteTime": {
     "end_time": "2020-03-13T08:09:08.509991Z",
     "start_time": "2020-03-13T08:09:08.022645Z"
    }
   },
   "outputs": [
    {
     "data": {
      "text/plain": [
       "<matplotlib.axes._subplots.AxesSubplot at 0x1e96e9f78c8>"
      ]
     },
     "execution_count": 74,
     "metadata": {},
     "output_type": "execute_result"
    },
    {
     "data": {
      "image/png": "[encoded data removed]",
      "text/plain": [
       "<Figure size 864x432 with 1 Axes>"
      ]
     },
     "metadata": {
      "needs_background": "light"
     },
     "output_type": "display_data"
    }
   ],
   "source": [
    "dxp.aggplot(agg=\"topics\", data=positive_not_recommended_reviews)"
   ]
  },
  {
   "cell_type": "code",
   "execution_count": 75,
   "metadata": {
    "ExecuteTime": {
     "end_time": "2020-03-13T08:09:17.206477Z",
     "start_time": "2020-03-13T08:09:17.190408Z"
    }
   },
   "outputs": [],
   "source": [
    "Negative_recommended_reviews=df[(df['sentiment_vader']=='Negative')&(df['recom']=='Positive')]"
   ]
  },
  {
   "cell_type": "code",
   "execution_count": 76,
   "metadata": {
    "ExecuteTime": {
     "end_time": "2020-03-13T08:09:26.881874Z",
     "start_time": "2020-03-13T08:09:26.666123Z"
    }
   },
   "outputs": [
    {
     "data": {
      "text/plain": [
       "<matplotlib.axes._subplots.AxesSubplot at 0x1e96a803c48>"
      ]
     },
     "execution_count": 76,
     "metadata": {},
     "output_type": "execute_result"
    },
    {
     "data": {
      "image/png": "[encoded data removed]",
      "text/plain": [
       "<Figure size 864x432 with 1 Axes>"
      ]
     },
     "metadata": {
      "needs_background": "light"
     },
     "output_type": "display_data"
    }
   ],
   "source": [
    "dxp.aggplot(agg=\"topics\", data=Negative_recommended_reviews)"
   ]
  },
  {
   "cell_type": "code",
   "execution_count": 55,
   "metadata": {
    "ExecuteTime": {
     "end_time": "2020-03-13T07:59:02.859880Z",
     "start_time": "2020-03-13T07:58:39.009234Z"
    },
    "scrolled": true
   },
   "outputs": [
    {
     "name": "stdout",
     "output_type": "stream",
     "text": [
      "\u001b[32mTopics found via LDA:\u001b[0m\n",
      "\n",
      "Topic #0:\n",
      "treatment thank treat great clinic medicine satisfy family best god friendly help feel visit speak happy monga bless really day life way recover care consult soft result person hospital follow\n",
      "\n",
      "Topic #1:\n",
      "pain day visit thank tell suffer say medicine result laxman year treatment hospital therapy relief nap stomach infection jonwal week fever donot chest severe mother feel ask body check issue\n",
      "\n",
      "Topic #2:\n",
      "time friendly visit issue explain clinic treatment wait appointment make understand health family staff donot feel highly ask great listen way come question consult professional excellent diagnosis comfortable know answer\n",
      "\n",
      "Topic #3:\n",
      "listen explain treatment medicine friendly time issue patiently nice understand satisfy carefully visit health consultation prescribe thing happy suggest care fee charge really patience donot overall test clearly hear medication\n",
      "\n",
      "Topic #4:\n",
      "medicine test prescribe donot visit treatment medication unnecessary fever suggest day listen time really friendly consult diabetes sugar ask blood father explain meet feel control report thank treat high start\n",
      "\n",
      "\n",
      "\u001b[32mTopics found via nmf_Z:\u001b[0m\n",
      "\n",
      "Topic #0:\n",
      "day donot ask say hospital test tell come check report fever blood staff admit nurse suggest start grandmother charge ajit pay make pain appointment condition inform normal feel consultation need\n",
      "\n",
      "Topic #1:\n",
      "treatment friendly thank explain satisfy happy year best really great issue feel care treat excellent nice result way family diagnosis health understand diabetes highly staff consult disease help make advise\n",
      "\n",
      "Topic #2:\n",
      "medicine listen prescribe explain test friendly issue patiently suggest understand unnecessary donot medication health carefully nice thank cause really advise pain polite help require thing diagnosis need work feel best\n",
      "\n",
      "Topic #3:\n",
      "time wait appointment explain understand issue listen clinic friendly spend hour long make meet health come really consultation care staff need family donot great book right minute 30 diagnosis highly\n",
      "\n",
      "Topic #4:\n",
      "visit clinic issue thank month consultation fever feel year friend treat health family medication pain mother day suggest wife charge way suffer high fee father lot consult follow best really\n",
      "\n",
      "\n",
      "\u001b[32mTopics found via lsi_Z:\u001b[0m\n",
      "\n",
      "Topic #0:\n",
      "treatment time medicine visit explain donot day listen test ask friendly prescribe issue clinic thank hospital say suggest come understand feel health really tell make medication wait fever consult treat\n",
      "\n",
      "Topic #1:\n",
      "donot medicine day ask test say tell hospital prescribe come visit report time check wait appointment fever blood charge pay hour nurse admit ajit grandmother unnecessary pain bad inform need\n",
      "\n",
      "Topic #2:\n",
      "time hospital wait treatment appointment say come visit staff day clinic ask hour tell donot nurse consultation book admit pay charge practo make 30 long ajit meet grandmother inform reach\n",
      "\n",
      "Topic #3:\n",
      "treatment day hospital say test visit ask fever tell donot medicine pain thank come report blood result admit check start suffer nurse ajit grandmother month suggest normal laxman charge high\n",
      "\n",
      "Topic #4:\n",
      "explain donot friendly test ask say hospital day issue tell come check report listen nurse health grandmother ajit staff make admit medication condition blood diet patiently shetty way sonography inform\n"
     ]
    }
   ],
   "source": [
    "import warnings\n",
    "warnings.simplefilter(\"ignore\", DeprecationWarning)\n",
    "# Load the LDA model from sk-learn\n",
    "from sklearn.decomposition import LatentDirichletAllocation as LDA\n",
    "from sklearn.decomposition import TruncatedSVD\n",
    "# Helper function\n",
    "def print_topics(model, count_vectorizer, n_top_words):\n",
    "    words = count_vectorizer.get_feature_names()\n",
    "    for topic_idx, topic in enumerate(model.components_):\n",
    "        print(\"\\nTopic #%d:\" % topic_idx)\n",
    "        print(\" \".join([words[i]\n",
    "                        for i in topic.argsort()[:-n_top_words - 1:-1]]))\n",
    "        \n",
    "# Tweak the two parameters below\n",
    "number_topics = 5\n",
    "number_words = 30\n",
    "count_data = count_vectorizer.fit_transform(data['reviews_stop_words_1'])\n",
    "# Create and fit the LDA model\n",
    "lda = LDA(n_components=number_topics, n_jobs=-1)\n",
    "lda.fit(count_data)\n",
    "# Print the topics found by the LDA model\n",
    "print(colored(\"Topics found via LDA:\",'green'))\n",
    "print_topics(lda, count_vectorizer, number_words)\n",
    "\n",
    "# Build a Non-Negative Matrix Factorization Model\n",
    "nmf_model = NMF(n_components=number_topics)\n",
    "nmf_model.fit(count_data)\n",
    "print('\\n')\n",
    "print (colored(\"Topics found via nmf_Z:\",'green'))\n",
    "print_topics(nmf_model, count_vectorizer, number_words)\n",
    "\n",
    "print('\\n')\n",
    "print (colored(\"Topics found via lsi_Z:\",'green'))\n",
    "# Build a Latent Semantic Indexing Model\n",
    "lsi_model = TruncatedSVD(n_components=number_topics)\n",
    "lsi_Z = lsi_model.fit(count_data)\n",
    "print_topics(lsi_Z, count_vectorizer, number_words)\n"
   ]
  },
  {
   "cell_type": "code",
   "execution_count": null,
   "metadata": {},
   "outputs": [],
   "source": []
  },
  {
   "cell_type": "code",
   "execution_count": null,
   "metadata": {
    "ExecuteTime": {
     "end_time": "2020-03-04T10:10:59.495639Z",
     "start_time": "2020-03-04T10:10:59.479667Z"
    }
   },
   "outputs": [],
   "source": []
  },
  {
   "cell_type": "code",
   "execution_count": 56,
   "metadata": {
    "ExecuteTime": {
     "end_time": "2020-03-13T07:59:02.867871Z",
     "start_time": "2020-03-13T07:59:02.859880Z"
    }
   },
   "outputs": [],
   "source": [
    "#from sklearn.cluster import AgglomerativeClustering"
   ]
  },
  {
   "cell_type": "code",
   "execution_count": 57,
   "metadata": {
    "ExecuteTime": {
     "end_time": "2020-03-13T07:59:03.019667Z",
     "start_time": "2020-03-13T07:59:02.867871Z"
    }
   },
   "outputs": [],
   "source": [
    "#import numpy as np\n",
    "\n",
    "#clustering = AgglomerativeClustering().fit(lsa_vecs)\n"
   ]
  },
  {
   "cell_type": "code",
   "execution_count": 58,
   "metadata": {
    "ExecuteTime": {
     "end_time": "2020-03-13T07:59:03.111545Z",
     "start_time": "2020-03-13T07:59:03.019667Z"
    }
   },
   "outputs": [],
   "source": [
    "#from sklearn.metrics.pairwise import cosine_similarity\n",
    "#dist = 1 - cosine_similarity(lsa_vecs)"
   ]
  },
  {
   "cell_type": "code",
   "execution_count": 59,
   "metadata": {
    "ExecuteTime": {
     "end_time": "2020-03-13T07:59:03.199835Z",
     "start_time": "2020-03-13T07:59:03.111545Z"
    }
   },
   "outputs": [],
   "source": [
    "#from scipy.cluster.hierarchy import ward, dendrogram\n",
    "\n",
    "#linkage_matrix = ward(dist) #define the linkage_matrix using ward clustering pre-computed distances\n",
    "\n",
    "#fig, ax = plt.subplots(figsize=(100, 100)) # set size\n",
    "#ax = dendrogram(linkage_matrix, orientation=\"right\");\n",
    "\n",
    "#plt.show()"
   ]
  }
 ],
 "metadata": {
  "kernelspec": {
   "display_name": "Python 3",
   "language": "python",
   "name": "python3"
  },
  "language_info": {
   "codemirror_mode": {
    "name": "ipython",
    "version": 3
   },
   "file_extension": ".py",
   "mimetype": "text/x-python",
   "name": "python",
   "nbconvert_exporter": "python",
   "pygments_lexer": "ipython3",
   "version": "3.7.5"
  },
  "varInspector": {
   "cols": {
    "lenName": 16,
    "lenType": 16,
    "lenVar": 40
   },
   "kernels_config": {
    "python": {
     "delete_cmd_postfix": "",
     "delete_cmd_prefix": "del ",
     "library": "var_list.py",
     "varRefreshCmd": "print(var_dic_list())"
    },
    "r": {
     "delete_cmd_postfix": ") ",
     "delete_cmd_prefix": "rm(",
     "library": "var_list.r",
     "varRefreshCmd": "cat(var_dic_list()) "
    }
   },
   "types_to_exclude": [
    "module",
    "function",
    "builtin_function_or_method",
    "instance",
    "_Feature"
   ],
   "window_display": false
  }
 },
 "nbformat": 4,
 "nbformat_minor": 2
}
